{
 "cells": [
  {
   "cell_type": "markdown",
   "metadata": {},
   "source": [
    "Análisis de tópicos en las revistas Brando y Ohlalá!"
   ]
  },
  {
   "cell_type": "code",
   "execution_count": 3,
   "metadata": {},
   "outputs": [],
   "source": [
    "#import json\n",
    "#from nltk.corpus import stopwords\n",
    "#from nltk.stem import SnowballStemmer\n",
    "#import unicodedata2\n",
    "#import string\n",
    "#from sklearn.model_selection import train_test_split, cross_val_score, GridSearchCV\n",
    "#from sklearn.naive_bayes import MultinomialNB\n",
    "#from sklearn.decomposition import LatentDirichletAllocation\n",
    "#from sklearn.feature_extraction.text import CountVectorizer\n",
    "#from sklearn.metrics import confusion_matrix, f1_score, classification_report\n",
    "#from sklearn.ensemble import RandomForestClassifier, GradientBoostingClassifier\n",
    "from libs.Cleaner import Cleaner\n",
    "from libs.LdaWraper import LDA_wrapper\n",
    "\n",
    "import pandas as pd\n",
    "import numpy as np\n",
    "import matplotlib.pyplot as plt\n",
    "#from gensim.models import KeyedVectors\n",
    "from pprint import pprint\n",
    "#import pyLDAvis.gensim\n",
    "#import pyLDAvis.sklearn\n",
    "#import re\n",
    "#import pickle\n",
    "#from tqdm import tqdm\n",
    "%matplotlib inline"
   ]
  },
  {
   "cell_type": "code",
   "execution_count": 4,
   "metadata": {
    "scrolled": true
   },
   "outputs": [
    {
     "name": "stderr",
     "output_type": "stream",
     "text": [
      "preprocess: 100%|███████████████████████████████████████████████████████████████| 30088/30088 [03:01<00:00, 165.63it/s]\n",
      "select most representative word of stem: 100%|███████████████████████████████| 97525/97525 [00:00<00:00, 567535.48it/s]\n",
      "de-stemming: 100%|████████████████████████████████████████████████████████████| 30088/30088 [00:02<00:00, 10820.71it/s]\n",
      "preprocess: 100%|██████████████████████████████████████████████████████████████| 30078/30078 [00:14<00:00, 2092.88it/s]\n",
      "select most representative word of stem: 100%|███████████████████████████████| 98103/98103 [00:00<00:00, 627989.52it/s]\n",
      "de-stemming: 100%|███████████████████████████████████████████████████████████| 30078/30078 [00:00<00:00, 320923.41it/s]\n"
     ]
    }
   ],
   "source": [
    "# Leemos los corpus de las dos revistas Brando y Ohlala\n",
    "dict_brando = pd.read_pickle(\"../data/brando.p\")\n",
    "dict_ohlala = pd.read_pickle(\"../data/ohlala.p\")\n",
    "\n",
    "df_hombres = pd.DataFrame.from_dict(dict_brando, orient='index')\n",
    "df_hombres.columns = [\"revista\", \"fecha\", \"titulo\", \"articulo\"]\n",
    "df_mujeres = pd.DataFrame.from_dict(dict_ohlala, orient='index')\n",
    "df_mujeres.columns = [\"revista\", \"fecha\", \"titulo\", \"articulo\"]\n",
    "# concatenamos las dos revistas para mirar que tenemos por años ....\n",
    "df_corpus = pd.concat([df_hombres, df_mujeres])\n",
    "df_corpus = df_corpus.sort_values(by=[\"fecha\"], ascending=[True]).reset_index(drop=True)\n",
    "df_corpus['year'] = df_corpus.fecha.str.slice(0, 4)\n",
    "#limpio el articulo\n",
    "df = df_corpus[['year','revista','articulo', \"titulo\"]].reset_index(drop=True)\n",
    "cleaner = Cleaner()\n",
    "df['text_clean'] = cleaner.data_clean(data=df['articulo'],stemming=True)\n",
    "df['text_clean'].replace('', np.nan, inplace=True)\n",
    "df.dropna(subset=['text_clean'], inplace=True)\n",
    "#limpio el título\n",
    "df['title_clean'] = cleaner.data_clean(data=df['titulo'],stemming=True)\n",
    "df['text_clean'] =  df.apply(lambda x: str(x['title_clean']+ \" \")*3 + x['text_clean'],axis = 1)"
   ]
  },
  {
   "cell_type": "code",
   "execution_count": 5,
   "metadata": {},
   "outputs": [],
   "source": [
    "texts = df['text_clean'].values"
   ]
  },
  {
   "cell_type": "markdown",
   "metadata": {},
   "source": [
    "---------"
   ]
  },
  {
   "cell_type": "code",
   "execution_count": 6,
   "metadata": {},
   "outputs": [],
   "source": [
    "wraper = LDA_wrapper()"
   ]
  },
  {
   "cell_type": "code",
   "execution_count": 7,
   "metadata": {
    "scrolled": true
   },
   "outputs": [
    {
     "name": "stdout",
     "output_type": "stream",
     "text": [
      "iteration: 1 of max_iter: 50\n",
      "iteration: 2 of max_iter: 50\n",
      "iteration: 3 of max_iter: 50\n",
      "iteration: 4 of max_iter: 50\n",
      "iteration: 5 of max_iter: 50\n",
      "iteration: 6 of max_iter: 50\n",
      "iteration: 7 of max_iter: 50\n",
      "iteration: 8 of max_iter: 50\n",
      "iteration: 9 of max_iter: 50\n",
      "iteration: 10 of max_iter: 50\n",
      "iteration: 11 of max_iter: 50\n",
      "iteration: 12 of max_iter: 50\n",
      "iteration: 13 of max_iter: 50\n",
      "iteration: 14 of max_iter: 50\n",
      "iteration: 15 of max_iter: 50\n",
      "iteration: 16 of max_iter: 50\n",
      "iteration: 17 of max_iter: 50\n",
      "iteration: 18 of max_iter: 50\n",
      "iteration: 19 of max_iter: 50\n",
      "iteration: 20 of max_iter: 50\n",
      "iteration: 21 of max_iter: 50\n",
      "iteration: 22 of max_iter: 50\n",
      "iteration: 23 of max_iter: 50\n",
      "iteration: 24 of max_iter: 50\n",
      "iteration: 25 of max_iter: 50\n",
      "iteration: 26 of max_iter: 50\n",
      "iteration: 27 of max_iter: 50\n",
      "iteration: 28 of max_iter: 50\n",
      "iteration: 29 of max_iter: 50\n",
      "iteration: 30 of max_iter: 50\n",
      "iteration: 31 of max_iter: 50\n",
      "iteration: 32 of max_iter: 50\n",
      "iteration: 33 of max_iter: 50\n",
      "iteration: 34 of max_iter: 50\n",
      "iteration: 35 of max_iter: 50\n",
      "iteration: 36 of max_iter: 50\n",
      "iteration: 37 of max_iter: 50\n",
      "iteration: 38 of max_iter: 50\n",
      "iteration: 39 of max_iter: 50\n",
      "iteration: 40 of max_iter: 50\n",
      "iteration: 41 of max_iter: 50\n",
      "iteration: 42 of max_iter: 50\n",
      "iteration: 43 of max_iter: 50\n",
      "iteration: 44 of max_iter: 50\n",
      "iteration: 45 of max_iter: 50\n",
      "iteration: 46 of max_iter: 50\n",
      "iteration: 47 of max_iter: 50\n",
      "iteration: 48 of max_iter: 50\n",
      "iteration: 49 of max_iter: 50\n",
      "iteration: 50 of max_iter: 50\n"
     ]
    }
   ],
   "source": [
    "lda_model, stemming = wraper.lda(data=texts,max_iter = 50,n_components=100,stemming = True)"
   ]
  },
  {
   "cell_type": "code",
   "execution_count": 11,
   "metadata": {},
   "outputs": [],
   "source": [
    "#wraper.save_model(lda_model, \"lda_model50t.p\")\n",
    "#wraper.save_model(lda_model, \"lda_model100t.p\")\n",
    "\n",
    "#wraper.save_model(lda_model, \"lda_model.p\")\n",
    "lda_model = wraper.restore_model(\"lda_model50t.p\")\n",
    "#lda_model = wraper.restore_model(\"lda_model100t.p\")\n",
    "#stemming = True"
   ]
  },
  {
   "cell_type": "code",
   "execution_count": 12,
   "metadata": {},
   "outputs": [],
   "source": [
    "data_vectorized, vectorizer = wraper.data_vectorizer(data=texts, stem = True)"
   ]
  },
  {
   "cell_type": "code",
   "execution_count": 13,
   "metadata": {},
   "outputs": [
    {
     "ename": "ValueError",
     "evalue": "The provided data has 28074 dimensions while the model was trained with feature size 28005.",
     "output_type": "error",
     "traceback": [
      "\u001b[1;31m---------------------------------------------------------------------------\u001b[0m",
      "\u001b[1;31mValueError\u001b[0m                                Traceback (most recent call last)",
      "\u001b[1;32m<ipython-input-13-9cd7d976be95>\u001b[0m in \u001b[0;36m<module>\u001b[1;34m()\u001b[0m\n\u001b[1;32m----> 1\u001b[1;33m \u001b[0mdoc_dist\u001b[0m \u001b[1;33m=\u001b[0m \u001b[0mlda_model\u001b[0m\u001b[1;33m.\u001b[0m\u001b[0mtransform\u001b[0m\u001b[1;33m(\u001b[0m\u001b[0mdata_vectorized\u001b[0m\u001b[1;33m)\u001b[0m\u001b[1;33m\u001b[0m\u001b[0m\n\u001b[0m\u001b[0;32m      2\u001b[0m \u001b[0mwords\u001b[0m \u001b[1;33m=\u001b[0m \u001b[0mvectorizer\u001b[0m\u001b[1;33m.\u001b[0m\u001b[0mget_feature_names\u001b[0m\u001b[1;33m(\u001b[0m\u001b[1;33m)\u001b[0m\u001b[1;33m\u001b[0m\u001b[0m\n\u001b[0;32m      3\u001b[0m \u001b[0mtopic_dist\u001b[0m \u001b[1;33m=\u001b[0m \u001b[0mlda_model\u001b[0m\u001b[1;33m.\u001b[0m\u001b[0mcomponents_\u001b[0m\u001b[1;33m\u001b[0m\u001b[0m\n",
      "\u001b[1;32mc:\\python36\\lib\\site-packages\\sklearn\\decomposition\\online_lda.py\u001b[0m in \u001b[0;36mtransform\u001b[1;34m(self, X)\u001b[0m\n\u001b[0;32m    631\u001b[0m             \u001b[0mDocument\u001b[0m \u001b[0mtopic\u001b[0m \u001b[0mdistribution\u001b[0m \u001b[1;32mfor\u001b[0m \u001b[0mX\u001b[0m\u001b[1;33m.\u001b[0m\u001b[1;33m\u001b[0m\u001b[0m\n\u001b[0;32m    632\u001b[0m         \"\"\"\n\u001b[1;32m--> 633\u001b[1;33m         \u001b[0mdoc_topic_distr\u001b[0m \u001b[1;33m=\u001b[0m \u001b[0mself\u001b[0m\u001b[1;33m.\u001b[0m\u001b[0m_unnormalized_transform\u001b[0m\u001b[1;33m(\u001b[0m\u001b[0mX\u001b[0m\u001b[1;33m)\u001b[0m\u001b[1;33m\u001b[0m\u001b[0m\n\u001b[0m\u001b[0;32m    634\u001b[0m         \u001b[0mdoc_topic_distr\u001b[0m \u001b[1;33m/=\u001b[0m \u001b[0mdoc_topic_distr\u001b[0m\u001b[1;33m.\u001b[0m\u001b[0msum\u001b[0m\u001b[1;33m(\u001b[0m\u001b[0maxis\u001b[0m\u001b[1;33m=\u001b[0m\u001b[1;36m1\u001b[0m\u001b[1;33m)\u001b[0m\u001b[1;33m[\u001b[0m\u001b[1;33m:\u001b[0m\u001b[1;33m,\u001b[0m \u001b[0mnp\u001b[0m\u001b[1;33m.\u001b[0m\u001b[0mnewaxis\u001b[0m\u001b[1;33m]\u001b[0m\u001b[1;33m\u001b[0m\u001b[0m\n\u001b[0;32m    635\u001b[0m         \u001b[1;32mreturn\u001b[0m \u001b[0mdoc_topic_distr\u001b[0m\u001b[1;33m\u001b[0m\u001b[0m\n",
      "\u001b[1;32mc:\\python36\\lib\\site-packages\\sklearn\\decomposition\\online_lda.py\u001b[0m in \u001b[0;36m_unnormalized_transform\u001b[1;34m(self, X)\u001b[0m\n\u001b[0;32m    608\u001b[0m                 \u001b[1;34m\"The provided data has %d dimensions while \"\u001b[0m\u001b[1;33m\u001b[0m\u001b[0m\n\u001b[0;32m    609\u001b[0m                 \u001b[1;34m\"the model was trained with feature size %d.\"\u001b[0m \u001b[1;33m%\u001b[0m\u001b[1;33m\u001b[0m\u001b[0m\n\u001b[1;32m--> 610\u001b[1;33m                 (n_features, self.components_.shape[1]))\n\u001b[0m\u001b[0;32m    611\u001b[0m \u001b[1;33m\u001b[0m\u001b[0m\n\u001b[0;32m    612\u001b[0m         doc_topic_distr, _ = self._e_step(X, cal_sstats=False,\n",
      "\u001b[1;31mValueError\u001b[0m: The provided data has 28074 dimensions while the model was trained with feature size 28005."
     ]
    }
   ],
   "source": [
    "doc_dist = lda_model.transform(data_vectorized)\n",
    "words = vectorizer.get_feature_names()\n",
    "topic_dist = lda_model.components_"
   ]
  },
  {
   "cell_type": "code",
   "execution_count": null,
   "metadata": {
    "scrolled": false
   },
   "outputs": [],
   "source": [
    "wraper.lda_vis(lda_model,data_vectorized, vectorizer)"
   ]
  },
  {
   "cell_type": "code",
   "execution_count": null,
   "metadata": {
    "scrolled": true
   },
   "outputs": [],
   "source": [
    "wraper.display_topics(lda_model, words, 10)"
   ]
  },
  {
   "cell_type": "code",
   "execution_count": 88,
   "metadata": {
    "scrolled": false
   },
   "outputs": [
    {
     "name": "stdout",
     "output_type": "stream",
     "text": [
      "Topic 1:\n",
      "natalia hot ana emma romina versus diez camilo morochas mega\n",
      "Topic 4:\n",
      "empresa redes sistema comprar productos mercado traves tecnologia permite desarrollo\n",
      "Topic 5:\n",
      "version auto marca modelo presente equipo llego motor argentina electrica\n",
      "Topic 7:\n",
      "ninos adultos educativo colegio chiquito padre secuestro change sauna pegote\n",
      "Topic 21:\n",
      "moda diseno estilo marca coleccion ropa tendencia prendas rosa zapatillas\n",
      "Topic 50:\n",
      "hijos madre mama padre bebe familia papa embarazo regalo anos\n",
      "Topic 71:\n",
      "anos argentina mundo historia pais publico primera habia libro mundial\n",
      "Topic 82:\n",
      "estudio problema trabajo explica ley medico social generar desarrollo investigar\n",
      "Topic 87:\n",
      "clases curso aprender estudio taller enseno labial alumnos profesor docente\n",
      "Topic 88:\n",
      "cocina queso com recetas platos carne cafe pan leche sabor\n",
      "Topic 93:\n",
      "juego jugar futbol cancha programa ganas copa radio pelota gol\n"
     ]
    }
   ],
   "source": [
    "#50 topicos\n",
    "#wraper.display_topics(lda_model, words, 10,subset=[0,13,18,20,22,31,33,38])\n",
    "#100 topicos\n",
    "wraper.display_topics(lda_model, words, 10,subset=[1,4,5,7,21,50,71,82, 87,88,93])"
   ]
  },
  {
   "cell_type": "markdown",
   "metadata": {},
   "source": [
    "## Topicos a revisar:\n"
   ]
  },
  {
   "cell_type": "markdown",
   "metadata": {},
   "source": [
    "#Con 50 topicos\n",
    "tracker = {         \n",
    "0: \"Internet\",           \n",
    "18: \"Futbol\",             \n",
    "20: \"Sexualidad\",             \n",
    "31: \"tecnología\",               \n",
    "33: \"Autos\",           \n",
    "38: \"Recetas\"}"
   ]
  },
  {
   "cell_type": "code",
   "execution_count": 89,
   "metadata": {},
   "outputs": [],
   "source": [
    "#Con 100 topicos\n",
    "tracker = {\n",
    "1: \"objetivacion mujer\",\n",
    "4:\"Negocios\",\n",
    "5: \"Autos\",\n",
    "7: \"Niños\",\n",
    "21: \"Moda\",\n",
    "50: \"Familia\",\n",
    "71: \"Sociedad\",\n",
    "82: \"Investigación\",\n",
    "93: \"Futbol\"}"
   ]
  },
  {
   "cell_type": "code",
   "execution_count": 90,
   "metadata": {},
   "outputs": [],
   "source": [
    "label_revista = df.revista.values"
   ]
  },
  {
   "cell_type": "code",
   "execution_count": 91,
   "metadata": {
    "scrolled": false
   },
   "outputs": [],
   "source": [
    "label_revista = df.revista.values\n",
    "brando_mask = label_revista == 'brando'"
   ]
  },
  {
   "cell_type": "code",
   "execution_count": 92,
   "metadata": {},
   "outputs": [],
   "source": [
    "brando_dist = doc_dist[brando_mask]\n",
    "ohlala_dist = doc_dist[~brando_mask]\n",
    "\n",
    "mean_dist_ohlala =ohlala_dist.mean(axis=0)\n",
    "mean_dist_brando =brando_dist.mean(axis=0)"
   ]
  },
  {
   "cell_type": "code",
   "execution_count": 93,
   "metadata": {},
   "outputs": [
    {
     "name": "stdout",
     "output_type": "stream",
     "text": [
      "Topico  objetivacion mujer\n",
      "Ohlala:  0.0023258404184675076\n",
      "Brando:  0.007611777449767145\n",
      "--------------\n",
      "Topico  Negocios\n",
      "Ohlala:  0.015715123861741936\n",
      "Brando:  0.07061636720316564\n",
      "--------------\n",
      "Topico  Autos\n",
      "Ohlala:  0.014901074953392046\n",
      "Brando:  0.08605076764288212\n",
      "--------------\n",
      "Topico  Niños\n",
      "Ohlala:  0.001977879749437991\n",
      "Brando:  0.001363130220478322\n",
      "--------------\n",
      "Topico  Moda\n",
      "Ohlala:  0.023259785616636053\n",
      "Brando:  0.015236584780637545\n",
      "--------------\n",
      "Topico  Familia\n",
      "Ohlala:  0.013361250243508666\n",
      "Brando:  0.005821664595875425\n",
      "--------------\n",
      "Topico  Sociedad\n",
      "Ohlala:  0.01867745647559115\n",
      "Brando:  0.0791390045986649\n",
      "--------------\n",
      "Topico  Investigación\n",
      "Ohlala:  0.01612829933487573\n",
      "Brando:  0.02865317855507188\n",
      "--------------\n",
      "Topico  Futbol\n",
      "Ohlala:  0.0038286687151970564\n",
      "Brando:  0.009210964399094959\n",
      "--------------\n"
     ]
    },
    {
     "data": {
      "image/png": "[encoded data removed]",
      "text/plain": [
       "<matplotlib.figure.Figure at 0x7fdb1a49c4e0>"
      ]
     },
     "metadata": {},
     "output_type": "display_data"
    }
   ],
   "source": [
    "fig, axs = plt.subplots(2,5, figsize=(15, 6), facecolor='w', edgecolor='k')\n",
    "fig.subplots_adjust(hspace = .5, wspace=.2)\n",
    "\n",
    "axs = axs.ravel()\n",
    "\n",
    "for i,topic in enumerate(tracker.keys()):\n",
    "    print(\"Topico \", tracker[topic])\n",
    "    axs[i].bar([\"Ohlala\", \"Brando\"], [mean_dist_ohlala[topic], mean_dist_brando[topic]])\n",
    "    axs[i].set_title(tracker[topic])\n",
    "    print(\"Ohlala: \", mean_dist_ohlala[topic])\n",
    "    print(\"Brando: \", mean_dist_brando[topic])\n",
    "    print(\"--------------\")\n"
   ]
  },
  {
   "cell_type": "code",
   "execution_count": 179,
   "metadata": {},
   "outputs": [],
   "source": [
    "def topics_df(df, tracker, doc_dist):\n",
    "    topics2track = list(tracker.keys())\n",
    "    df_topics = df[[\"year\",\"revista\"]].reset_index(drop = True)\n",
    "    doc_topics = pd.DataFrame([doc[list(tracker.keys())] for doc in doc_dist])\n",
    "    doc_topics.columns = list(tracker.values())\n",
    "    df_topics = pd.concat([df_topics, doc_topics], axis=1)\n",
    "    results = df_topics.groupby(['year','revista']).mean()\n",
    "    results.to_csv(\"results/topicos_results.csv\")\n",
    "    df_topics.to_csv(\"results/topicos_results_all.csv\")\n",
    "    return results, df_topics"
   ]
  },
  {
   "cell_type": "code",
   "execution_count": 181,
   "metadata": {},
   "outputs": [],
   "source": [
    "results, df_topics = topics_df(df, tracker, doc_dist)"
   ]
  },
  {
   "cell_type": "markdown",
   "metadata": {},
   "source": [
    "Me guardo los resultados para graficarlos en ggplot!"
   ]
  }
 ],
 "metadata": {
  "kernelspec": {
   "display_name": "Python 3",
   "language": "python",
   "name": "python3"
  }
 },
 "nbformat": 4,
 "nbformat_minor": 2
}
