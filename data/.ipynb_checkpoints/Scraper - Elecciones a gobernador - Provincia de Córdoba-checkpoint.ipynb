{
 "cells": [
  {
   "cell_type": "code",
   "execution_count": 1,
   "metadata": {},
   "outputs": [],
   "source": [
    "%matplotlib inline\n",
    "import pandas as pd\n",
    "import numpy as np\n",
    "import matplotlib.pyplot as plt\n",
    "import urllib.request\n",
    "import urllib.parse\n",
    "import requests\n",
    "import pickle\n",
    "import time\n",
    "from bs4 import BeautifulSoup"
   ]
  },
  {
   "cell_type": "code",
   "execution_count": 467,
   "metadata": {},
   "outputs": [],
   "source": [
    "circuitos_2015 = pd.read_csv('cba.circuitos.2013.csv')\n",
    "circuitos_2011 = pd.read_csv('cba.circuitos.2011.csv')"
   ]
  },
  {
   "cell_type": "code",
   "execution_count": 468,
   "metadata": {},
   "outputs": [],
   "source": [
    "circuitos_2015 = circuitos_2015.Name[1:].tolist()\n",
    "circuitos_2011 = circuitos_2011.x.tolist()"
   ]
  },
  {
   "cell_type": "code",
   "execution_count": 446,
   "metadata": {},
   "outputs": [],
   "source": [
    "url_2015 = 'https://www.justiciacordoba.gob.ar/jel/ReportesEleccion20150705/Resultados/E20150705_C'"
   ]
  },
  {
   "cell_type": "code",
   "execution_count": 465,
   "metadata": {},
   "outputs": [],
   "source": [
    "url_2011 = 'http://www.justiciacordoba.gob.ar/jel/ReportesEleccion20110807/Resultados/E20110807_C'"
   ]
  },
  {
   "cell_type": "code",
   "execution_count": 470,
   "metadata": {},
   "outputs": [
    {
     "name": "stdout",
     "output_type": "stream",
     "text": [
      "http://www.justiciacordoba.gob.ar/jel/ReportesEleccion20110807/Resultados/E20110807_C10C%20%20%20%20_CA2_0.htm\n",
      "http://www.justiciacordoba.gob.ar/jel/ReportesEleccion20110807/Resultados/E20110807_C12C%20%20%20%20_CA2_0.htm\n",
      "http://www.justiciacordoba.gob.ar/jel/ReportesEleccion20110807/Resultados/E20110807_C5E%20%20%20%20_CA2_0.htm\n"
     ]
    }
   ],
   "source": [
    "paginas = []\n",
    "sleep = 0.1\n",
    "suffix_2015 = '_CA2_0.htm'\n",
    "suffix_2011 = '%20%20%20%20_CA2_0.htm'\n",
    "\n",
    "for circuito in circuitos_2011[:3]:\n",
    "    time.sleep(sleep)\n",
    "    link = '{}{}{}'.format(url_2011, circuito, suffix_2011)\n",
    "    print(link)\n",
    "    response_iterative = requests.request(\"GET\", link)\n",
    "    paginas.append(response_iterative.text)\n",
    "#    with open(\"cba_elecciones_gobernador.txt\", \"wb\") as fp:\n",
    "#        pickle.dump(paginas, fp)\n"
   ]
  },
  {
   "cell_type": "code",
   "execution_count": 449,
   "metadata": {},
   "outputs": [],
   "source": [
    "data = []\n",
    "data_base = pd.DataFrame()\n",
    "\n",
    "for pagina in paginas:\n",
    "    soup = BeautifulSoup(pagina, 'html.parser')\n",
    "    table_body = soup.find('table')\n",
    "    rows = table_body.find_all('tr')\n",
    "    for row in rows:\n",
    "        cols = row.find_all('td')\n",
    "        cols = [ele.text.replace('\\xa0', ' ').strip() for ele in cols]\n",
    "        data.append([ele for ele in cols if ele])\n",
    "    tabla = pd.DataFrame(data)\n",
    "    tabla_circuito = pd.concat((data_base, tabla), axis = 0)\n",
    "    tabla_circuito.columns = ['lista', 'nombre', 'votos']\n",
    "    tabla_circuito = tabla_circuito.dropna(axis = 0, how = 'all')\n",
    "    totales = tabla_circuito[tabla_circuito['lista'].str.contains('Total')].shift(1, axis = 1)\n",
    "    totales['lista'] = totales['lista'].fillna(value = 'None')\n",
    "    tabla_circuito = pd.concat((tabla_circuito, totales), axis=0)\n",
    "    tabla_circuito.sort_index().reset_index()"
   ]
  },
  {
   "cell_type": "code",
   "execution_count": 450,
   "metadata": {},
   "outputs": [],
   "source": [
    "tabla_circuito = tabla_circuito.sort_index()"
   ]
  },
  {
   "cell_type": "code",
   "execution_count": 451,
   "metadata": {},
   "outputs": [],
   "source": [
    "tabla_circuito['circuito'] = tabla_circuito[tabla_circuito['lista'].str.contains('Circuito')]['lista']\n",
    "tabla_circuito['circuito'] = tabla_circuito['circuito'].fillna(method = 'ffill')"
   ]
  },
  {
   "cell_type": "code",
   "execution_count": 452,
   "metadata": {},
   "outputs": [],
   "source": [
    "tabla_circuito = tabla_circuito.dropna(how = 'any')\n",
    "tabla_circuito = tabla_circuito.drop(tabla_circuito[tabla_circuito['votos'] == 'Votos'].index)"
   ]
  },
  {
   "cell_type": "code",
   "execution_count": 453,
   "metadata": {},
   "outputs": [],
   "source": [
    "tabla_circuito['votos'] = pd.to_numeric(tabla_circuito.votos.str.replace(',', ''))"
   ]
  },
  {
   "cell_type": "code",
   "execution_count": 454,
   "metadata": {},
   "outputs": [],
   "source": [
    "tabla_circuito['circuito'] = tabla_circuito.circuito.str.replace('Circuito ', '')"
   ]
  },
  {
   "cell_type": "code",
   "execution_count": 455,
   "metadata": {},
   "outputs": [],
   "source": [
    "circuitos_desagregado =  tabla_circuito.circuito.str.split('-', expand = True)"
   ]
  },
  {
   "cell_type": "code",
   "execution_count": 456,
   "metadata": {},
   "outputs": [],
   "source": [
    "tabla_circuito = pd.concat((tabla_circuito, circuitos_desagregado), axis= 1)"
   ]
  },
  {
   "cell_type": "code",
   "execution_count": 457,
   "metadata": {},
   "outputs": [],
   "source": [
    "tabla_circuito.columns = ['lista', 'nombre', 'votos', 'circuito', 'circuito_numero', 'circuito_nombre']"
   ]
  },
  {
   "cell_type": "code",
   "execution_count": 471,
   "metadata": {},
   "outputs": [
    {
     "ename": "KeyError",
     "evalue": "'votos'",
     "output_type": "error",
     "traceback": [
      "\u001b[1;31m---------------------------------------------------------------------------\u001b[0m",
      "\u001b[1;31mKeyError\u001b[0m                                  Traceback (most recent call last)",
      "\u001b[1;32m<ipython-input-471-d2899e77a6be>\u001b[0m in \u001b[0;36m<module>\u001b[1;34m()\u001b[0m\n\u001b[1;32m----> 1\u001b[1;33m \u001b[0mtabla_circuito\u001b[0m \u001b[1;33m=\u001b[0m \u001b[0mtabla_circuito\u001b[0m\u001b[1;33m.\u001b[0m\u001b[0mpivot_table\u001b[0m\u001b[1;33m(\u001b[0m\u001b[0mindex\u001b[0m \u001b[1;33m=\u001b[0m \u001b[1;33m[\u001b[0m\u001b[1;34m'circuito_numero'\u001b[0m\u001b[1;33m,\u001b[0m \u001b[1;34m'circuito_nombre'\u001b[0m\u001b[1;33m]\u001b[0m\u001b[1;33m,\u001b[0m \u001b[0mcolumns\u001b[0m\u001b[1;33m=\u001b[0m \u001b[1;34m'nombre'\u001b[0m\u001b[1;33m,\u001b[0m \u001b[0mvalues\u001b[0m \u001b[1;33m=\u001b[0m \u001b[1;34m'votos'\u001b[0m\u001b[1;33m)\u001b[0m\u001b[1;33m.\u001b[0m\u001b[0mreset_index\u001b[0m\u001b[1;33m(\u001b[0m\u001b[1;33m)\u001b[0m\u001b[1;33m\u001b[0m\u001b[0m\n\u001b[0m",
      "\u001b[1;32mc:\\users\\martin\\appdata\\local\\programs\\python\\python36\\lib\\site-packages\\pandas\\core\\frame.py\u001b[0m in \u001b[0;36mpivot_table\u001b[1;34m(self, values, index, columns, aggfunc, fill_value, margins, dropna, margins_name)\u001b[0m\n\u001b[0;32m   5301\u001b[0m                            \u001b[0maggfunc\u001b[0m\u001b[1;33m=\u001b[0m\u001b[0maggfunc\u001b[0m\u001b[1;33m,\u001b[0m \u001b[0mfill_value\u001b[0m\u001b[1;33m=\u001b[0m\u001b[0mfill_value\u001b[0m\u001b[1;33m,\u001b[0m\u001b[1;33m\u001b[0m\u001b[0m\n\u001b[0;32m   5302\u001b[0m                            \u001b[0mmargins\u001b[0m\u001b[1;33m=\u001b[0m\u001b[0mmargins\u001b[0m\u001b[1;33m,\u001b[0m \u001b[0mdropna\u001b[0m\u001b[1;33m=\u001b[0m\u001b[0mdropna\u001b[0m\u001b[1;33m,\u001b[0m\u001b[1;33m\u001b[0m\u001b[0m\n\u001b[1;32m-> 5303\u001b[1;33m                            margins_name=margins_name)\n\u001b[0m\u001b[0;32m   5304\u001b[0m \u001b[1;33m\u001b[0m\u001b[0m\n\u001b[0;32m   5305\u001b[0m     \u001b[1;32mdef\u001b[0m \u001b[0mstack\u001b[0m\u001b[1;33m(\u001b[0m\u001b[0mself\u001b[0m\u001b[1;33m,\u001b[0m \u001b[0mlevel\u001b[0m\u001b[1;33m=\u001b[0m\u001b[1;33m-\u001b[0m\u001b[1;36m1\u001b[0m\u001b[1;33m,\u001b[0m \u001b[0mdropna\u001b[0m\u001b[1;33m=\u001b[0m\u001b[1;32mTrue\u001b[0m\u001b[1;33m)\u001b[0m\u001b[1;33m:\u001b[0m\u001b[1;33m\u001b[0m\u001b[0m\n",
      "\u001b[1;32mc:\\users\\martin\\appdata\\local\\programs\\python\\python36\\lib\\site-packages\\pandas\\core\\reshape\\pivot.py\u001b[0m in \u001b[0;36mpivot_table\u001b[1;34m(data, values, index, columns, aggfunc, fill_value, margins, dropna, margins_name)\u001b[0m\n\u001b[0;32m     59\u001b[0m         \u001b[1;32mfor\u001b[0m \u001b[0mi\u001b[0m \u001b[1;32min\u001b[0m \u001b[0mvalues\u001b[0m\u001b[1;33m:\u001b[0m\u001b[1;33m\u001b[0m\u001b[0m\n\u001b[0;32m     60\u001b[0m             \u001b[1;32mif\u001b[0m \u001b[0mi\u001b[0m \u001b[1;32mnot\u001b[0m \u001b[1;32min\u001b[0m \u001b[0mdata\u001b[0m\u001b[1;33m:\u001b[0m\u001b[1;33m\u001b[0m\u001b[0m\n\u001b[1;32m---> 61\u001b[1;33m                 \u001b[1;32mraise\u001b[0m \u001b[0mKeyError\u001b[0m\u001b[1;33m(\u001b[0m\u001b[0mi\u001b[0m\u001b[1;33m)\u001b[0m\u001b[1;33m\u001b[0m\u001b[0m\n\u001b[0m\u001b[0;32m     62\u001b[0m \u001b[1;33m\u001b[0m\u001b[0m\n\u001b[0;32m     63\u001b[0m         \u001b[0mto_filter\u001b[0m \u001b[1;33m=\u001b[0m \u001b[1;33m[\u001b[0m\u001b[1;33m]\u001b[0m\u001b[1;33m\u001b[0m\u001b[0m\n",
      "\u001b[1;31mKeyError\u001b[0m: 'votos'"
     ]
    }
   ],
   "source": [
    "tabla_circuito = tabla_circuito.pivot_table(index = ['circuito_numero', 'circuito_nombre'], columns= 'nombre', values = 'votos').reset_index()"
   ]
  },
  {
   "cell_type": "code",
   "execution_count": 460,
   "metadata": {},
   "outputs": [],
   "source": [
    "tabla_circuito.to_csv('cba_gobernador_2015_circuitos.csv', index = False)"
   ]
  }
 ],
 "metadata": {
  "kernelspec": {
   "display_name": "Python 3",
   "language": "python",
   "name": "python3"
  },
  "language_info": {
   "codemirror_mode": {
    "name": "ipython",
    "version": 3
   },
   "file_extension": ".py",
   "mimetype": "text/x-python",
   "name": "python",
   "nbconvert_exporter": "python",
   "pygments_lexer": "ipython3",
   "version": "3.6.5"
  }
 },
 "nbformat": 4,
 "nbformat_minor": 2
}
