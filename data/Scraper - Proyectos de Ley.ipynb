{
 "cells": [
  {
   "cell_type": "markdown",
   "metadata": {},
   "source": [
    "## Scraper para Proyectos de ley del Congreso de la Nación Argentina.\n",
    "#### Objetivo: recopilar la información de firmantes, dictámenes y cámara iniciadora de todos los proyectos de ley publicados por el sitio web de la Honorable Cámara de Diputados de la Nación desde junio de 2006 hasta julio de 2018."
   ]
  },
  {
   "cell_type": "markdown",
   "metadata": {},
   "source": [
    "### Cargo las librerías"
   ]
  },
  {
   "cell_type": "code",
   "execution_count": 181,
   "metadata": {},
   "outputs": [],
   "source": [
    "%matplotlib inline\n",
    "import pandas as pd\n",
    "import numpy as np\n",
    "import matplotlib.pyplot as plt\n",
    "import urllib.request\n",
    "import urllib.parse\n",
    "import requests\n",
    "import pickle\n",
    "import time\n",
    "import re\n",
    "from bs4 import BeautifulSoup\n",
    "from itertools import cycle"
   ]
  },
  {
   "cell_type": "markdown",
   "metadata": {},
   "source": [
    "### Completo el formulario con la información requerida en la web de la HCDN (Proyecto 1)"
   ]
  },
  {
   "cell_type": "code",
   "execution_count": 4,
   "metadata": {},
   "outputs": [],
   "source": [
    "url = \"https://www.hcdn.gob.ar/proyectos/resultados-buscador.html\"\n",
    "\n",
    "querystring = {\n",
    "  \"strCantPagina\":\"20\",\n",
    "  \"strTipo\":\"ley\",\n",
    "  \"strMostrarFirmantes\":\"on\",\n",
    "  \"strMostrarComisiones\":\"on\",\n",
    "  \"strMostrarDictamenes\":\"on\",\n",
    "  \"strMostrarTramites\":\"on\"\n",
    "}\n",
    "\n",
    "response = requests.request(\"POST\", url, params=querystring)"
   ]
  },
  {
   "cell_type": "markdown",
   "metadata": {},
   "source": [
    "#### Itero sobre todas las páginas para descargar todos los proyectos"
   ]
  },
  {
   "cell_type": "code",
   "execution_count": 394,
   "metadata": {},
   "outputs": [],
   "source": [
    "paginas = []\n",
    "pags_limite = 3000\n",
    "sleep = 2\n",
    "\n",
    "for page in range(1,pags_limite):\n",
    "    time.sleep(sleep)\n",
    "    link = '{}?pagina={}'.format(url, page)\n",
    "    cookies = response.cookies\n",
    "    response_iterative = requests.request(\"GET\", link, cookies=cookies)\n",
    "    paginas.append(response_iterative.text)\n",
    "    with open(\".txt\", \"wb\") as fp:\n",
    "        pickle.dump(paginas, fp)\n",
    "    print('El {}, páginas {}'.format(time.asctime(), len(paginas))) "
   ]
  },
  {
   "cell_type": "markdown",
   "metadata": {},
   "source": [
    "#### Abro la base guardada en un pickle"
   ]
  },
  {
   "cell_type": "code",
   "execution_count": 8,
   "metadata": {},
   "outputs": [],
   "source": [
    " with open(\"../data_estatica/proyectos_ley_99_18.txt\", \"rb\") as fp:\n",
    "                 proyectos_ley = pickle.load(fp)"
   ]
  },
  {
   "cell_type": "markdown",
   "metadata": {},
   "source": [
    "#### Guardo como archivo de BeautifulSoup la página de los proyectos de ley"
   ]
  },
  {
   "cell_type": "code",
   "execution_count": 241,
   "metadata": {},
   "outputs": [
    {
     "name": "stderr",
     "output_type": "stream",
     "text": [
      "/anaconda3/lib/python3.6/site-packages/bs4/__init__.py:181: UserWarning: No parser was explicitly specified, so I'm using the best available HTML parser for this system (\"lxml\"). This usually isn't a problem, but if you run this code on another system, or in a different virtual environment, it may use a different parser and behave differently.\n",
      "\n",
      "The code that caused this warning is on line 193 of the file /anaconda3/lib/python3.6/runpy.py. To get rid of this warning, change code that looks like this:\n",
      "\n",
      " BeautifulSoup(YOUR_MARKUP})\n",
      "\n",
      "to this:\n",
      "\n",
      " BeautifulSoup(YOUR_MARKUP, \"lxml\")\n",
      "\n",
      "  markup_type=markup_type))\n"
     ]
    }
   ],
   "source": [
    "soup = BeautifulSoup(proyectos_ley[10])"
   ]
  },
  {
   "cell_type": "markdown",
   "metadata": {},
   "source": [
    "#### Guardo todos los links a los proyectos"
   ]
  },
  {
   "cell_type": "code",
   "execution_count": 343,
   "metadata": {
    "scrolled": true
   },
   "outputs": [],
   "source": [
    "links = []\n",
    "for page in proyectos_ley[:2]:\n",
    "    for link in BeautifulSoup(page, 'html5lib').find_all('a', class_ = 'btn btn-info'):\n",
    "        links.append(link.get('href'))"
   ]
  },
  {
   "cell_type": "markdown",
   "metadata": {},
   "source": [
    "### Armo la base de proyecto con expediente, camara iniciadora y título"
   ]
  },
  {
   "cell_type": "code",
   "execution_count": 471,
   "metadata": {},
   "outputs": [],
   "source": [
    "metadata = soup.find_all('div', class_ = 'dp-metadata')\n",
    "titulos = soup.find_all('div', class_ = 'dp-texto')\n",
    "expedientes = soup.find_all('a', class_ = 'btn btn-info')\n",
    "\n",
    "metadata_proyectos = []\n",
    "for metadatos, titulo, expediente in zip(metadata, titulos, expedientes):\n",
    "    spans = metadatos.find_all('span')\n",
    "    for span in spans:\n",
    "        dato = span.get_text().split(':')\n",
    "        dato.append(titulo.get_text())\n",
    "        metadata_proyectos.append(dato)"
   ]
  },
  {
   "cell_type": "code",
   "execution_count": 472,
   "metadata": {},
   "outputs": [],
   "source": [
    "proyectos_expediente = pd.DataFrame(metadata_proyectos)"
   ]
  },
  {
   "cell_type": "code",
   "execution_count": 473,
   "metadata": {},
   "outputs": [],
   "source": [
    "proyectos_expediente.columns = ['metadata', 'valores', 'titulo']"
   ]
  },
  {
   "cell_type": "code",
   "execution_count": 474,
   "metadata": {},
   "outputs": [],
   "source": [
    "proyectos_expediente = proyectos_expediente.pivot(index = 'titulo', columns = 'metadata', values= 'valores').reset_index()"
   ]
  },
  {
   "cell_type": "code",
   "execution_count": 475,
   "metadata": {},
   "outputs": [
    {
     "data": {
      "text/html": [
       "<div>\n",
       "<style scoped>\n",
       "    .dataframe tbody tr th:only-of-type {\n",
       "        vertical-align: middle;\n",
       "    }\n",
       "\n",
       "    .dataframe tbody tr th {\n",
       "        vertical-align: top;\n",
       "    }\n",
       "\n",
       "    .dataframe thead th {\n",
       "        text-align: right;\n",
       "    }\n",
       "</style>\n",
       "<table border=\"1\" class=\"dataframe\">\n",
       "  <thead>\n",
       "    <tr style=\"text-align: right;\">\n",
       "      <th>metadata</th>\n",
       "      <th>titulo</th>\n",
       "      <th>Expediente Diputados</th>\n",
       "      <th>Expediente Senado</th>\n",
       "      <th>Fecha</th>\n",
       "      <th>Iniciado en</th>\n",
       "      <th>Publicado en</th>\n",
       "    </tr>\n",
       "  </thead>\n",
       "  <tbody>\n",
       "    <tr>\n",
       "      <th>0</th>\n",
       "      <td>ASIGNACIONES FAMILIARES - LEY 24714: INCORPORA...</td>\n",
       "      <td>4557-D-2018</td>\n",
       "      <td>NaN</td>\n",
       "      <td>01/08/2018</td>\n",
       "      <td>Diputados</td>\n",
       "      <td>Trámite Parlamentario N° 91</td>\n",
       "    </tr>\n",
       "    <tr>\n",
       "      <th>1</th>\n",
       "      <td>ASIGNACIONES FAMILIARES LEY 24.714. MODIFICACI...</td>\n",
       "      <td>4540-D-2018</td>\n",
       "      <td>NaN</td>\n",
       "      <td>31/07/2018</td>\n",
       "      <td>Diputados</td>\n",
       "      <td>Trámite Parlamentario N° 90</td>\n",
       "    </tr>\n",
       "    <tr>\n",
       "      <th>2</th>\n",
       "      <td>CODIGO PENAL. MODIFICACION DEL ARTICULO 144 TE...</td>\n",
       "      <td>4528-D-2018</td>\n",
       "      <td>NaN</td>\n",
       "      <td>31/07/2018</td>\n",
       "      <td>Diputados</td>\n",
       "      <td>Trámite Parlamentario N° 90</td>\n",
       "    </tr>\n",
       "    <tr>\n",
       "      <th>3</th>\n",
       "      <td>CODIGO PROCESAL PENAL DE LA NACION. MODIFICACI...</td>\n",
       "      <td>4529-D-2018</td>\n",
       "      <td>NaN</td>\n",
       "      <td>31/07/2018</td>\n",
       "      <td>Diputados</td>\n",
       "      <td>Trámite Parlamentario N° 90</td>\n",
       "    </tr>\n",
       "    <tr>\n",
       "      <th>4</th>\n",
       "      <td>CONTRATACIONES DE LA ADMINISTRACION NACIONAL. ...</td>\n",
       "      <td>4560-D-2018</td>\n",
       "      <td>NaN</td>\n",
       "      <td>01/08/2018</td>\n",
       "      <td>Diputados</td>\n",
       "      <td>Trámite Parlamentario N° 91</td>\n",
       "    </tr>\n",
       "  </tbody>\n",
       "</table>\n",
       "</div>"
      ],
      "text/plain": [
       "metadata                                             titulo  \\\n",
       "0         ASIGNACIONES FAMILIARES - LEY 24714: INCORPORA...   \n",
       "1         ASIGNACIONES FAMILIARES LEY 24.714. MODIFICACI...   \n",
       "2         CODIGO PENAL. MODIFICACION DEL ARTICULO 144 TE...   \n",
       "3         CODIGO PROCESAL PENAL DE LA NACION. MODIFICACI...   \n",
       "4         CONTRATACIONES DE LA ADMINISTRACION NACIONAL. ...   \n",
       "\n",
       "metadata Expediente Diputados Expediente Senado        Fecha Iniciado en  \\\n",
       "0                 4557-D-2018               NaN   01/08/2018   Diputados   \n",
       "1                 4540-D-2018               NaN   31/07/2018   Diputados   \n",
       "2                 4528-D-2018               NaN   31/07/2018   Diputados   \n",
       "3                 4529-D-2018               NaN   31/07/2018   Diputados   \n",
       "4                 4560-D-2018               NaN   01/08/2018   Diputados   \n",
       "\n",
       "metadata                  Publicado en  \n",
       "0          Trámite Parlamentario N° 91  \n",
       "1          Trámite Parlamentario N° 90  \n",
       "2          Trámite Parlamentario N° 90  \n",
       "3          Trámite Parlamentario N° 90  \n",
       "4          Trámite Parlamentario N° 91  "
      ]
     },
     "execution_count": 475,
     "metadata": {},
     "output_type": "execute_result"
    }
   ],
   "source": [
    "proyectos_expediente.head()"
   ]
  },
  {
   "cell_type": "markdown",
   "metadata": {},
   "source": [
    "### Armo la base de giros en Diputados"
   ]
  },
  {
   "cell_type": "code",
   "execution_count": 451,
   "metadata": {},
   "outputs": [],
   "source": [
    "data = []\n",
    "soup_proyectos = soup.find_all('div', class_ = 'detalle-proyecto')\n",
    "\n",
    "for proyecto in soup_proyectos:\n",
    "    table_body = proyecto.find('table', class_ = 'dp-giros-diputados table table-condensed table-striped')\n",
    "    titulo = proyecto.find('div', class_ = 'dp-texto')\n",
    "    if table_body:\n",
    "        rows = table_body.find_all('tr')\n",
    "        for row in rows:\n",
    "            cols = row.find_all('td')\n",
    "            cols = [ele.text.replace('\\xa0', ' ').strip() for ele in cols]\n",
    "            if cols:\n",
    "                cols.insert(0, titulo.get_text())\n",
    "            data.append([ele for ele in cols if ele])"
   ]
  },
  {
   "cell_type": "code",
   "execution_count": 454,
   "metadata": {},
   "outputs": [],
   "source": [
    "giros_diputados = pd.DataFrame([x for x in data if x]).head()\n",
    "giros_diputados.columns = ['titulo', 'comision']"
   ]
  },
  {
   "cell_type": "code",
   "execution_count": 476,
   "metadata": {},
   "outputs": [
    {
     "data": {
      "text/html": [
       "<div>\n",
       "<style scoped>\n",
       "    .dataframe tbody tr th:only-of-type {\n",
       "        vertical-align: middle;\n",
       "    }\n",
       "\n",
       "    .dataframe tbody tr th {\n",
       "        vertical-align: top;\n",
       "    }\n",
       "\n",
       "    .dataframe thead th {\n",
       "        text-align: right;\n",
       "    }\n",
       "</style>\n",
       "<table border=\"1\" class=\"dataframe\">\n",
       "  <thead>\n",
       "    <tr style=\"text-align: right;\">\n",
       "      <th></th>\n",
       "      <th>titulo</th>\n",
       "      <th>comision</th>\n",
       "    </tr>\n",
       "  </thead>\n",
       "  <tbody>\n",
       "    <tr>\n",
       "      <th>0</th>\n",
       "      <td>DECLARASE AL PAN COMO BIEN SOCIAL. MODIFICACIO...</td>\n",
       "      <td>ACCION SOCIAL Y SALUD PUBLICA</td>\n",
       "    </tr>\n",
       "    <tr>\n",
       "      <th>1</th>\n",
       "      <td>DECLARASE AL PAN COMO BIEN SOCIAL. MODIFICACIO...</td>\n",
       "      <td>PRESUPUESTO Y HACIENDA</td>\n",
       "    </tr>\n",
       "    <tr>\n",
       "      <th>2</th>\n",
       "      <td>PACTO FEDERAL DEL TRABAJO - LEY 25212: MODIFIC...</td>\n",
       "      <td>LEGISLACION DEL TRABAJO</td>\n",
       "    </tr>\n",
       "    <tr>\n",
       "      <th>3</th>\n",
       "      <td>CONTRATACIONES DE LA ADMINISTRACION NACIONAL. ...</td>\n",
       "      <td>OBRAS PUBLICAS</td>\n",
       "    </tr>\n",
       "    <tr>\n",
       "      <th>4</th>\n",
       "      <td>CONTRATACIONES DE LA ADMINISTRACION NACIONAL. ...</td>\n",
       "      <td>LEGISLACION GENERAL</td>\n",
       "    </tr>\n",
       "  </tbody>\n",
       "</table>\n",
       "</div>"
      ],
      "text/plain": [
       "                                              titulo  \\\n",
       "0  DECLARASE AL PAN COMO BIEN SOCIAL. MODIFICACIO...   \n",
       "1  DECLARASE AL PAN COMO BIEN SOCIAL. MODIFICACIO...   \n",
       "2  PACTO FEDERAL DEL TRABAJO - LEY 25212: MODIFIC...   \n",
       "3  CONTRATACIONES DE LA ADMINISTRACION NACIONAL. ...   \n",
       "4  CONTRATACIONES DE LA ADMINISTRACION NACIONAL. ...   \n",
       "\n",
       "                        comision  \n",
       "0  ACCION SOCIAL Y SALUD PUBLICA  \n",
       "1         PRESUPUESTO Y HACIENDA  \n",
       "2        LEGISLACION DEL TRABAJO  \n",
       "3                 OBRAS PUBLICAS  \n",
       "4            LEGISLACION GENERAL  "
      ]
     },
     "execution_count": 476,
     "metadata": {},
     "output_type": "execute_result"
    }
   ],
   "source": [
    "giros_diputados.head()"
   ]
  },
  {
   "cell_type": "markdown",
   "metadata": {},
   "source": [
    "### Armo la base de giros en Senado"
   ]
  },
  {
   "cell_type": "code",
   "execution_count": 448,
   "metadata": {},
   "outputs": [],
   "source": [
    "data = []\n",
    "soup_proyectos = soup.find_all('div', class_ = 'detalle-proyecto')\n",
    "\n",
    "for proyecto in soup_proyectos:\n",
    "    table_body = proyecto.find('table', class_ = 'dp-giros-senado table table-condensed table-striped')\n",
    "    titulo = proyecto.find('div', class_ = 'dp-texto')\n",
    "    if table_body:\n",
    "        rows = table_body.find_all('tr')\n",
    "        for row in rows:\n",
    "            cols = row.find_all('td')\n",
    "            cols = [ele.text.replace('\\xa0', ' ').strip() for ele in cols]\n",
    "            if cols:\n",
    "                cols.insert(0, titulo.get_text())\n",
    "            data.append([ele for ele in cols if ele])"
   ]
  },
  {
   "cell_type": "code",
   "execution_count": 456,
   "metadata": {},
   "outputs": [],
   "source": [
    "giros_senado = pd.DataFrame([x for x in data if x]).head()\n",
    "giros_senado.columns = ['titulo', 'comision']"
   ]
  },
  {
   "cell_type": "code",
   "execution_count": 477,
   "metadata": {},
   "outputs": [
    {
     "data": {
      "text/html": [
       "<div>\n",
       "<style scoped>\n",
       "    .dataframe tbody tr th:only-of-type {\n",
       "        vertical-align: middle;\n",
       "    }\n",
       "\n",
       "    .dataframe tbody tr th {\n",
       "        vertical-align: top;\n",
       "    }\n",
       "\n",
       "    .dataframe thead th {\n",
       "        text-align: right;\n",
       "    }\n",
       "</style>\n",
       "<table border=\"1\" class=\"dataframe\">\n",
       "  <thead>\n",
       "    <tr style=\"text-align: right;\">\n",
       "      <th></th>\n",
       "      <th>titulo</th>\n",
       "      <th>comision</th>\n",
       "    </tr>\n",
       "  </thead>\n",
       "  <tbody>\n",
       "    <tr>\n",
       "      <th>0</th>\n",
       "      <td>DECLARASE AL PAN COMO BIEN SOCIAL. MODIFICACIO...</td>\n",
       "      <td>ACCION SOCIAL Y SALUD PUBLICA</td>\n",
       "    </tr>\n",
       "    <tr>\n",
       "      <th>1</th>\n",
       "      <td>DECLARASE AL PAN COMO BIEN SOCIAL. MODIFICACIO...</td>\n",
       "      <td>PRESUPUESTO Y HACIENDA</td>\n",
       "    </tr>\n",
       "    <tr>\n",
       "      <th>2</th>\n",
       "      <td>PACTO FEDERAL DEL TRABAJO - LEY 25212: MODIFIC...</td>\n",
       "      <td>LEGISLACION DEL TRABAJO</td>\n",
       "    </tr>\n",
       "    <tr>\n",
       "      <th>3</th>\n",
       "      <td>CONTRATACIONES DE LA ADMINISTRACION NACIONAL. ...</td>\n",
       "      <td>OBRAS PUBLICAS</td>\n",
       "    </tr>\n",
       "    <tr>\n",
       "      <th>4</th>\n",
       "      <td>CONTRATACIONES DE LA ADMINISTRACION NACIONAL. ...</td>\n",
       "      <td>LEGISLACION GENERAL</td>\n",
       "    </tr>\n",
       "  </tbody>\n",
       "</table>\n",
       "</div>"
      ],
      "text/plain": [
       "                                              titulo  \\\n",
       "0  DECLARASE AL PAN COMO BIEN SOCIAL. MODIFICACIO...   \n",
       "1  DECLARASE AL PAN COMO BIEN SOCIAL. MODIFICACIO...   \n",
       "2  PACTO FEDERAL DEL TRABAJO - LEY 25212: MODIFIC...   \n",
       "3  CONTRATACIONES DE LA ADMINISTRACION NACIONAL. ...   \n",
       "4  CONTRATACIONES DE LA ADMINISTRACION NACIONAL. ...   \n",
       "\n",
       "                        comision  \n",
       "0  ACCION SOCIAL Y SALUD PUBLICA  \n",
       "1         PRESUPUESTO Y HACIENDA  \n",
       "2        LEGISLACION DEL TRABAJO  \n",
       "3                 OBRAS PUBLICAS  \n",
       "4            LEGISLACION GENERAL  "
      ]
     },
     "execution_count": 477,
     "metadata": {},
     "output_type": "execute_result"
    }
   ],
   "source": [
    "giros_senado.head()"
   ]
  },
  {
   "cell_type": "markdown",
   "metadata": {},
   "source": [
    "### Armo la base de firmantes"
   ]
  },
  {
   "cell_type": "code",
   "execution_count": 460,
   "metadata": {},
   "outputs": [],
   "source": [
    "data = []\n",
    "soup_proyectos = soup.find_all('div', class_ = 'detalle-proyecto')\n",
    "\n",
    "for proyecto in soup_proyectos:\n",
    "    table_body = proyecto.find('table', class_ = 'dp-firmantes table table-condensed table-striped')\n",
    "    titulo = proyecto.find('div', class_ = 'dp-texto')\n",
    "    if table_body:\n",
    "        rows = table_body.find_all('tr')\n",
    "        for row in rows:\n",
    "            cols = row.find_all('td')\n",
    "            cols = [ele.text.replace('\\xa0', ' ').strip() for ele in cols]\n",
    "            if cols:\n",
    "                cols.insert(0, titulo.get_text())\n",
    "            data.append([ele for ele in cols if ele])"
   ]
  },
  {
   "cell_type": "code",
   "execution_count": 463,
   "metadata": {},
   "outputs": [],
   "source": [
    "firmantes = pd.DataFrame([x for x in data if x]).head()\n",
    "firmantes.columns = ['titulo', 'firmante', 'distrito', 'bloque']"
   ]
  },
  {
   "cell_type": "code",
   "execution_count": 478,
   "metadata": {},
   "outputs": [
    {
     "data": {
      "text/html": [
       "<div>\n",
       "<style scoped>\n",
       "    .dataframe tbody tr th:only-of-type {\n",
       "        vertical-align: middle;\n",
       "    }\n",
       "\n",
       "    .dataframe tbody tr th {\n",
       "        vertical-align: top;\n",
       "    }\n",
       "\n",
       "    .dataframe thead th {\n",
       "        text-align: right;\n",
       "    }\n",
       "</style>\n",
       "<table border=\"1\" class=\"dataframe\">\n",
       "  <thead>\n",
       "    <tr style=\"text-align: right;\">\n",
       "      <th></th>\n",
       "      <th>titulo</th>\n",
       "      <th>firmante</th>\n",
       "      <th>distrito</th>\n",
       "      <th>bloque</th>\n",
       "    </tr>\n",
       "  </thead>\n",
       "  <tbody>\n",
       "    <tr>\n",
       "      <th>0</th>\n",
       "      <td>DECLARASE AL PAN COMO BIEN SOCIAL. MODIFICACIO...</td>\n",
       "      <td>CASTAGNETO, CARLOS DANIEL</td>\n",
       "      <td>BUENOS AIRES</td>\n",
       "      <td>FRENTE PARA LA VICTORIA - PJ</td>\n",
       "    </tr>\n",
       "    <tr>\n",
       "      <th>1</th>\n",
       "      <td>DECLARASE AL PAN COMO BIEN SOCIAL. MODIFICACIO...</td>\n",
       "      <td>GRANA, ADRIAN EDUARDO</td>\n",
       "      <td>BUENOS AIRES</td>\n",
       "      <td>FRENTE PARA LA VICTORIA - PJ</td>\n",
       "    </tr>\n",
       "    <tr>\n",
       "      <th>2</th>\n",
       "      <td>DECLARASE AL PAN COMO BIEN SOCIAL. MODIFICACIO...</td>\n",
       "      <td>IGON, SANTIAGO NICOLAS</td>\n",
       "      <td>CHUBUT</td>\n",
       "      <td>FRENTE PARA LA VICTORIA - PJ</td>\n",
       "    </tr>\n",
       "    <tr>\n",
       "      <th>3</th>\n",
       "      <td>DECLARASE AL PAN COMO BIEN SOCIAL. MODIFICACIO...</td>\n",
       "      <td>CAROL, ANALUZ AILEN</td>\n",
       "      <td>TIERRA DEL FUEGO</td>\n",
       "      <td>FRENTE PARA LA VICTORIA - PJ</td>\n",
       "    </tr>\n",
       "    <tr>\n",
       "      <th>4</th>\n",
       "      <td>DECLARASE AL PAN COMO BIEN SOCIAL. MODIFICACIO...</td>\n",
       "      <td>RACH QUIROGA, ANALIA</td>\n",
       "      <td>CHACO</td>\n",
       "      <td>FRENTE PARA LA VICTORIA - PJ</td>\n",
       "    </tr>\n",
       "  </tbody>\n",
       "</table>\n",
       "</div>"
      ],
      "text/plain": [
       "                                              titulo  \\\n",
       "0  DECLARASE AL PAN COMO BIEN SOCIAL. MODIFICACIO...   \n",
       "1  DECLARASE AL PAN COMO BIEN SOCIAL. MODIFICACIO...   \n",
       "2  DECLARASE AL PAN COMO BIEN SOCIAL. MODIFICACIO...   \n",
       "3  DECLARASE AL PAN COMO BIEN SOCIAL. MODIFICACIO...   \n",
       "4  DECLARASE AL PAN COMO BIEN SOCIAL. MODIFICACIO...   \n",
       "\n",
       "                    firmante          distrito                        bloque  \n",
       "0  CASTAGNETO, CARLOS DANIEL      BUENOS AIRES  FRENTE PARA LA VICTORIA - PJ  \n",
       "1      GRANA, ADRIAN EDUARDO      BUENOS AIRES  FRENTE PARA LA VICTORIA - PJ  \n",
       "2     IGON, SANTIAGO NICOLAS            CHUBUT  FRENTE PARA LA VICTORIA - PJ  \n",
       "3        CAROL, ANALUZ AILEN  TIERRA DEL FUEGO  FRENTE PARA LA VICTORIA - PJ  \n",
       "4       RACH QUIROGA, ANALIA             CHACO  FRENTE PARA LA VICTORIA - PJ  "
      ]
     },
     "execution_count": 478,
     "metadata": {},
     "output_type": "execute_result"
    }
   ],
   "source": [
    "firmantes.head()"
   ]
  },
  {
   "cell_type": "markdown",
   "metadata": {},
   "source": [
    "### Armo la base de trámites"
   ]
  },
  {
   "cell_type": "code",
   "execution_count": 442,
   "metadata": {},
   "outputs": [],
   "source": [
    "data = []\n",
    "soup_proyectos = soup.find_all('div', class_ = 'detalle-proyecto')\n",
    "\n",
    "for proyecto in soup_proyectos:\n",
    "    table_body = proyecto.find('table', class_ = 'dp-tramites table table-condensed table-striped')\n",
    "    titulo = proyecto.find('div', class_ = 'dp-texto')\n",
    "    if table_body:\n",
    "        rows = table_body.find_all('tr')\n",
    "        for row in rows:\n",
    "            cols = row.find_all('td')\n",
    "            cols = [ele.text.replace('\\xa0', ' ').strip() for ele in cols]\n",
    "            if cols:\n",
    "                cols.insert(0, titulo.get_text())\n",
    "            data.append([ele for ele in cols if ele])"
   ]
  },
  {
   "cell_type": "code",
   "execution_count": 443,
   "metadata": {},
   "outputs": [],
   "source": [
    "tramites = pd.DataFrame([x for x in data if x])\n",
    "tramites.columns = ['titulo', 'camara', 'movimiento', 'fecha', 'resultado']"
   ]
  },
  {
   "cell_type": "code",
   "execution_count": 465,
   "metadata": {},
   "outputs": [
    {
     "data": {
      "text/html": [
       "<div>\n",
       "<style scoped>\n",
       "    .dataframe tbody tr th:only-of-type {\n",
       "        vertical-align: middle;\n",
       "    }\n",
       "\n",
       "    .dataframe tbody tr th {\n",
       "        vertical-align: top;\n",
       "    }\n",
       "\n",
       "    .dataframe thead th {\n",
       "        text-align: right;\n",
       "    }\n",
       "</style>\n",
       "<table border=\"1\" class=\"dataframe\">\n",
       "  <thead>\n",
       "    <tr style=\"text-align: right;\">\n",
       "      <th></th>\n",
       "      <th>titulo</th>\n",
       "      <th>camara</th>\n",
       "      <th>movimiento</th>\n",
       "      <th>fecha</th>\n",
       "      <th>resultado</th>\n",
       "    </tr>\n",
       "  </thead>\n",
       "  <tbody>\n",
       "    <tr>\n",
       "      <th>0</th>\n",
       "      <td>DEROGACION DEL DECRETO 702 DE FECHA 26 DE JULI...</td>\n",
       "      <td>Diputados</td>\n",
       "      <td>SOLICITUD DE SER COFIRMANTE DE LA DIPUTADA PIT...</td>\n",
       "      <td>None</td>\n",
       "      <td>None</td>\n",
       "    </tr>\n",
       "    <tr>\n",
       "      <th>1</th>\n",
       "      <td>DEROGACION DEL DECRETO 702 DE FECHA 26 DE JULI...</td>\n",
       "      <td>Diputados</td>\n",
       "      <td>MANIFESTACIONES EN MINORIA</td>\n",
       "      <td>07/08/2018</td>\n",
       "      <td>None</td>\n",
       "    </tr>\n",
       "    <tr>\n",
       "      <th>2</th>\n",
       "      <td>ASIGNACIONES FAMILIARES - LEY 24714: INCORPORA...</td>\n",
       "      <td>Diputados</td>\n",
       "      <td>SOLICITUD DE SER COFIRMANTE DEL DIPUTADO SELVA...</td>\n",
       "      <td>None</td>\n",
       "      <td>None</td>\n",
       "    </tr>\n",
       "    <tr>\n",
       "      <th>3</th>\n",
       "      <td>ASIGNACIONES FAMILIARES - LEY 24714: INCORPORA...</td>\n",
       "      <td>Diputados</td>\n",
       "      <td>MANIFESTACIONES EN MINORIA</td>\n",
       "      <td>07/08/2018</td>\n",
       "      <td>None</td>\n",
       "    </tr>\n",
       "    <tr>\n",
       "      <th>4</th>\n",
       "      <td>VACUNACIONES CONTRA LAS ENFERMEDADES PREVENIBL...</td>\n",
       "      <td>Diputados</td>\n",
       "      <td>SOLICITUD DE SER ADHERENTE DEL DIPUTADO ZAMARB...</td>\n",
       "      <td>None</td>\n",
       "      <td>None</td>\n",
       "    </tr>\n",
       "  </tbody>\n",
       "</table>\n",
       "</div>"
      ],
      "text/plain": [
       "                                              titulo     camara  \\\n",
       "0  DEROGACION DEL DECRETO 702 DE FECHA 26 DE JULI...  Diputados   \n",
       "1  DEROGACION DEL DECRETO 702 DE FECHA 26 DE JULI...  Diputados   \n",
       "2  ASIGNACIONES FAMILIARES - LEY 24714: INCORPORA...  Diputados   \n",
       "3  ASIGNACIONES FAMILIARES - LEY 24714: INCORPORA...  Diputados   \n",
       "4  VACUNACIONES CONTRA LAS ENFERMEDADES PREVENIBL...  Diputados   \n",
       "\n",
       "                                          movimiento       fecha resultado  \n",
       "0  SOLICITUD DE SER COFIRMANTE DE LA DIPUTADA PIT...        None      None  \n",
       "1                         MANIFESTACIONES EN MINORIA  07/08/2018      None  \n",
       "2  SOLICITUD DE SER COFIRMANTE DEL DIPUTADO SELVA...        None      None  \n",
       "3                         MANIFESTACIONES EN MINORIA  07/08/2018      None  \n",
       "4  SOLICITUD DE SER ADHERENTE DEL DIPUTADO ZAMARB...        None      None  "
      ]
     },
     "execution_count": 465,
     "metadata": {},
     "output_type": "execute_result"
    }
   ],
   "source": [
    "tramites.head()"
   ]
  }
 ],
 "metadata": {
  "kernelspec": {
   "display_name": "Python 3",
   "language": "python",
   "name": "python3"
  },
  "language_info": {
   "codemirror_mode": {
    "name": "ipython",
    "version": 3
   },
   "file_extension": ".py",
   "mimetype": "text/x-python",
   "name": "python",
   "nbconvert_exporter": "python",
   "pygments_lexer": "ipython3",
   "version": "3.6.4"
  }
 },
 "nbformat": 4,
 "nbformat_minor": 2
}
