{
 "cells": [
  {
   "cell_type": "markdown",
   "metadata": {},
   "source": [
    "## Scraper para Proyectos de ley del Congreso de la Nación Argentina.\n",
    "#### Objetivo: recopilar la información de firmantes, dictámenes y cámara iniciadora de todos los proyectos de ley publicados por el sitio web de la Honorable Cámara de Diputados de la Nación desde junio de 2006 hasta julio de 2018."
   ]
  },
  {
   "cell_type": "markdown",
   "metadata": {},
   "source": [
    "### Cargo las librerías"
   ]
  },
  {
   "cell_type": "code",
   "execution_count": 361,
   "metadata": {},
   "outputs": [],
   "source": [
    "%matplotlib inline\n",
    "import pandas as pd\n",
    "import numpy as np\n",
    "import matplotlib.pyplot as plt\n",
    "import urllib.request\n",
    "import urllib.parse\n",
    "import requests\n",
    "import pickle\n",
    "import time\n",
    "import re\n",
    "from tqdm import tqdm\n",
    "from bs4 import BeautifulSoup\n",
    "from itertools import cycle"
   ]
  },
  {
   "cell_type": "markdown",
   "metadata": {},
   "source": [
    "### Completo el formulario con la información requerida en la web de la HCDN (Proyecto 1)"
   ]
  },
  {
   "cell_type": "code",
   "execution_count": 4,
   "metadata": {},
   "outputs": [],
   "source": [
    "url = \"https://www.hcdn.gob.ar/proyectos/resultados-buscador.html\"\n",
    "\n",
    "querystring = {\n",
    "  \"strCantPagina\":\"20\",\n",
    "  \"strTipo\":\"ley\",\n",
    "  \"strMostrarFirmantes\":\"on\",\n",
    "  \"strMostrarComisiones\":\"on\",\n",
    "  \"strMostrarDictamenes\":\"on\",\n",
    "  \"strMostrarTramites\":\"on\"\n",
    "}\n",
    "\n",
    "response = requests.request(\"POST\", url, params=querystring)"
   ]
  },
  {
   "cell_type": "markdown",
   "metadata": {},
   "source": [
    "#### Itero sobre todas las páginas para descargar todos los proyectos"
   ]
  },
  {
   "cell_type": "code",
   "execution_count": 394,
   "metadata": {},
   "outputs": [],
   "source": [
    "paginas = []\n",
    "pags_limite = 3000\n",
    "sleep = 2\n",
    "\n",
    "for page in range(1,pags_limite):\n",
    "    time.sleep(sleep)\n",
    "    link = '{}?pagina={}'.format(url, page)\n",
    "    cookies = response.cookies\n",
    "    response_iterative = requests.request(\"GET\", link, cookies=cookies)\n",
    "    paginas.append(response_iterative.text)\n",
    "    with open(\".txt\", \"wb\") as fp:\n",
    "        pickle.dump(paginas, fp)\n",
    "    print('El {}, páginas {}'.format(time.asctime(), len(paginas))) "
   ]
  },
  {
   "cell_type": "markdown",
   "metadata": {},
   "source": [
    "#### Abro la base guardada en un pickle"
   ]
  },
  {
   "cell_type": "code",
   "execution_count": 3,
   "metadata": {},
   "outputs": [],
   "source": [
    " with open(\"../data_estatica/proyectos_ley_99_18.txt\", \"rb\") as fp:\n",
    "                 proyectos_ley = pickle.load(fp)"
   ]
  },
  {
   "cell_type": "markdown",
   "metadata": {},
   "source": [
    "#### Guardo todos los links a los proyectos"
   ]
  },
  {
   "cell_type": "code",
   "execution_count": 12,
   "metadata": {
    "scrolled": true
   },
   "outputs": [],
   "source": [
    "links = []\n",
    "for page in proyectos_ley[:2]:\n",
    "    for link in BeautifulSoup(page, 'html5lib').find_all('a', class_ = 'btn btn-info'):\n",
    "        links.append(link.get('href'))"
   ]
  },
  {
   "cell_type": "markdown",
   "metadata": {},
   "source": [
    "### Armo la base de proyecto con expediente, camara iniciadora y título"
   ]
  },
  {
   "cell_type": "code",
   "execution_count": 367,
   "metadata": {},
   "outputs": [
    {
     "name": "stderr",
     "output_type": "stream",
     "text": [
      "100%|██████████| 2003/2003 [06:30<00:00,  5.13it/s]\n"
     ]
    }
   ],
   "source": [
    "metadata_proyecto = []\n",
    "\n",
    "for page in tqdm(proyectos_ley):\n",
    "    soup = BeautifulSoup(page, 'html5lib')\n",
    "    soup_proyectos = soup.find_all('div', class_ = 'detalle-proyecto')\n",
    "    for soup_proyecto in soup_proyectos:\n",
    "        metadata = soup_proyecto.find_all('div', class_ = 'dp-metadata')\n",
    "        titulos = soup_proyecto.find_all('div', class_ = 'dp-texto')\n",
    "        for metadatos, titulo in zip(metadata, titulos):\n",
    "            spans = metadatos.find_all('span')\n",
    "            try:\n",
    "                exp_num = re.search('[0-9]+[-]+[D-S]+[-][0-9]+', str(spans)).group(0)\n",
    "            except:\n",
    "                pass\n",
    "            for span in spans:\n",
    "                dato = span.get_text().split(':')\n",
    "                dato.append(titulo.get_text())\n",
    "                dato.append(exp_num)\n",
    "                metadata_proyecto.append(dato)"
   ]
  },
  {
   "cell_type": "code",
   "execution_count": 368,
   "metadata": {},
   "outputs": [],
   "source": [
    "proyectos_expediente = pd.DataFrame(metadata_proyecto)"
   ]
  },
  {
   "cell_type": "code",
   "execution_count": null,
   "metadata": {},
   "outputs": [],
   "source": [
    "del metadata_proyecto"
   ]
  },
  {
   "cell_type": "code",
   "execution_count": 369,
   "metadata": {},
   "outputs": [],
   "source": [
    "proyectos_expediente.columns = ['metadata', 'valores', 'titulo', 'expediente']"
   ]
  },
  {
   "cell_type": "code",
   "execution_count": 370,
   "metadata": {},
   "outputs": [],
   "source": [
    "proyectos_expediente_table = proyectos_expediente.\\\n",
    "pivot_table(index = ['expediente', 'titulo'], columns = 'metadata', values= 'valores', aggfunc = 'first').\\\n",
    "reset_index()"
   ]
  },
  {
   "cell_type": "code",
   "execution_count": 420,
   "metadata": {},
   "outputs": [
    {
     "data": {
      "text/html": [
       "<div>\n",
       "<style scoped>\n",
       "    .dataframe tbody tr th:only-of-type {\n",
       "        vertical-align: middle;\n",
       "    }\n",
       "\n",
       "    .dataframe tbody tr th {\n",
       "        vertical-align: top;\n",
       "    }\n",
       "\n",
       "    .dataframe thead th {\n",
       "        text-align: right;\n",
       "    }\n",
       "</style>\n",
       "<table border=\"1\" class=\"dataframe\">\n",
       "  <thead>\n",
       "    <tr style=\"text-align: right;\">\n",
       "      <th>metadata</th>\n",
       "      <th>expediente</th>\n",
       "      <th>titulo</th>\n",
       "      <th>Expediente Diputados</th>\n",
       "      <th>Expediente Senado</th>\n",
       "      <th>Fecha</th>\n",
       "      <th>Iniciado en</th>\n",
       "      <th>Publicado en</th>\n",
       "    </tr>\n",
       "  </thead>\n",
       "  <tbody>\n",
       "    <tr>\n",
       "      <th>0</th>\n",
       "      <td>0001-D-2008</td>\n",
       "      <td>CODIGO CIVIL: MODIFICACION DEL INCISO E) DEL A...</td>\n",
       "      <td>0001-D-2008</td>\n",
       "      <td>NaN</td>\n",
       "      <td>03/03/2008</td>\n",
       "      <td>Diputados</td>\n",
       "      <td>Trámite Parlamentario N° 1</td>\n",
       "    </tr>\n",
       "    <tr>\n",
       "      <th>1</th>\n",
       "      <td>0001-D-2010</td>\n",
       "      <td>REGIMEN DE CREACION DE COMISIONES INVESTIGADOR...</td>\n",
       "      <td>0001-D-2010</td>\n",
       "      <td>NaN</td>\n",
       "      <td>02/03/2010</td>\n",
       "      <td>Diputados</td>\n",
       "      <td>Trámite Parlamentario N° 3</td>\n",
       "    </tr>\n",
       "    <tr>\n",
       "      <th>2</th>\n",
       "      <td>0001-D-2011</td>\n",
       "      <td>CONSEJO DE LA MAGISTRATURA (LEY 24937): MODIFI...</td>\n",
       "      <td>0001-D-2011</td>\n",
       "      <td>NaN</td>\n",
       "      <td>01/03/2011</td>\n",
       "      <td>Diputados</td>\n",
       "      <td>Trámite Parlamentario N° 1</td>\n",
       "    </tr>\n",
       "    <tr>\n",
       "      <th>3</th>\n",
       "      <td>0001-S-2008</td>\n",
       "      <td>MODIFICACION DEL ARTICULO 938 DEL CODIGO CIVIL...</td>\n",
       "      <td>NaN</td>\n",
       "      <td>0001-S-2008</td>\n",
       "      <td>03/03/2008</td>\n",
       "      <td>Senado</td>\n",
       "      <td>Diario de Asuntos Entrados N° 1</td>\n",
       "    </tr>\n",
       "    <tr>\n",
       "      <th>4</th>\n",
       "      <td>0001-S-2009</td>\n",
       "      <td>CREACION DEL CONSEJO CONSULTIVO DEL TABACO.</td>\n",
       "      <td>NaN</td>\n",
       "      <td>0001-S-2009</td>\n",
       "      <td>02/03/2009</td>\n",
       "      <td>Senado</td>\n",
       "      <td>Diario de Asuntos Entrados N° 1</td>\n",
       "    </tr>\n",
       "  </tbody>\n",
       "</table>\n",
       "</div>"
      ],
      "text/plain": [
       "metadata   expediente                                             titulo  \\\n",
       "0         0001-D-2008  CODIGO CIVIL: MODIFICACION DEL INCISO E) DEL A...   \n",
       "1         0001-D-2010  REGIMEN DE CREACION DE COMISIONES INVESTIGADOR...   \n",
       "2         0001-D-2011  CONSEJO DE LA MAGISTRATURA (LEY 24937): MODIFI...   \n",
       "3         0001-S-2008  MODIFICACION DEL ARTICULO 938 DEL CODIGO CIVIL...   \n",
       "4         0001-S-2009        CREACION DEL CONSEJO CONSULTIVO DEL TABACO.   \n",
       "\n",
       "metadata Expediente Diputados Expediente Senado        Fecha Iniciado en  \\\n",
       "0                 0001-D-2008               NaN   03/03/2008   Diputados   \n",
       "1                 0001-D-2010               NaN   02/03/2010   Diputados   \n",
       "2                 0001-D-2011               NaN   01/03/2011   Diputados   \n",
       "3                         NaN       0001-S-2008   03/03/2008      Senado   \n",
       "4                         NaN       0001-S-2009   02/03/2009      Senado   \n",
       "\n",
       "metadata                      Publicado en  \n",
       "0               Trámite Parlamentario N° 1  \n",
       "1               Trámite Parlamentario N° 3  \n",
       "2               Trámite Parlamentario N° 1  \n",
       "3          Diario de Asuntos Entrados N° 1  \n",
       "4          Diario de Asuntos Entrados N° 1  "
      ]
     },
     "execution_count": 420,
     "metadata": {},
     "output_type": "execute_result"
    }
   ],
   "source": [
    "proyectos_expediente_table.head()"
   ]
  },
  {
   "cell_type": "code",
   "execution_count": 383,
   "metadata": {},
   "outputs": [],
   "source": [
    "#proyectos_expediente_table.to_csv('proyectos_ley_expedientes.csv', index = False)"
   ]
  },
  {
   "cell_type": "markdown",
   "metadata": {},
   "source": [
    "### Armo la base de giros en Diputados"
   ]
  },
  {
   "cell_type": "code",
   "execution_count": 434,
   "metadata": {},
   "outputs": [
    {
     "name": "stderr",
     "output_type": "stream",
     "text": [
      "100%|██████████| 2003/2003 [06:35<00:00,  5.06it/s]\n"
     ]
    }
   ],
   "source": [
    "data = []\n",
    "\n",
    "for page in tqdm(proyectos_ley):\n",
    "    soup = BeautifulSoup(page, 'html5lib')\n",
    "    soup_proyectos = soup.find_all('div', class_ = 'detalle-proyecto')\n",
    "    for proyecto in soup_proyectos:\n",
    "        table_body = proyecto.find('table', class_ = 'dp-giros-diputados table table-condensed table-striped')\n",
    "        titulo = proyecto.find('div', class_ = 'dp-texto')\n",
    "        metadata = proyecto.find_all('div', class_ = 'dp-metadata')\n",
    "        try:\n",
    "            exp_num = re.search('[0-9]+[-]+[D-S]+[-][0-9]+', str(metadata)).group(0)\n",
    "        except:\n",
    "            pass           \n",
    "        if table_body:\n",
    "            rows = table_body.find_all('tr')\n",
    "            for row in rows:\n",
    "                cols = row.find_all('td')\n",
    "                cols = [ele.text.replace('\\xa0', ' ').strip() for ele in cols]\n",
    "                if cols:\n",
    "                    cols.insert(0, titulo.get_text())\n",
    "                    cols.insert(0, exp_num)\n",
    "                data.append([ele for ele in cols if ele])"
   ]
  },
  {
   "cell_type": "code",
   "execution_count": 435,
   "metadata": {},
   "outputs": [],
   "source": [
    "giros_diputados = pd.DataFrame([x for x in data if x])\n",
    "giros_diputados.columns = ['expediente', 'titulo', 'giro_a_comision']"
   ]
  },
  {
   "cell_type": "code",
   "execution_count": 467,
   "metadata": {},
   "outputs": [
    {
     "data": {
      "text/html": [
       "<div>\n",
       "<style scoped>\n",
       "    .dataframe tbody tr th:only-of-type {\n",
       "        vertical-align: middle;\n",
       "    }\n",
       "\n",
       "    .dataframe tbody tr th {\n",
       "        vertical-align: top;\n",
       "    }\n",
       "\n",
       "    .dataframe thead th {\n",
       "        text-align: right;\n",
       "    }\n",
       "</style>\n",
       "<table border=\"1\" class=\"dataframe\">\n",
       "  <thead>\n",
       "    <tr style=\"text-align: right;\">\n",
       "      <th></th>\n",
       "      <th>expediente</th>\n",
       "      <th>titulo</th>\n",
       "      <th>giro_a_comision</th>\n",
       "    </tr>\n",
       "  </thead>\n",
       "  <tbody>\n",
       "    <tr>\n",
       "      <th>60757</th>\n",
       "      <td>2377-D-2006</td>\n",
       "      <td>INSTITUCION DE LA \"FIESTA DE LA FAMILIA\", CONO...</td>\n",
       "      <td>LEGISLACION GENERAL</td>\n",
       "    </tr>\n",
       "    <tr>\n",
       "      <th>60758</th>\n",
       "      <td>2376-D-2006</td>\n",
       "      <td>INSTITUCION DE LA \"FIESTA NACIONAL DE LA CARNE...</td>\n",
       "      <td>INDUSTRIA</td>\n",
       "    </tr>\n",
       "    <tr>\n",
       "      <th>60759</th>\n",
       "      <td>2376-D-2006</td>\n",
       "      <td>INSTITUCION DE LA \"FIESTA NACIONAL DE LA CARNE...</td>\n",
       "      <td>LEGISLACION GENERAL</td>\n",
       "    </tr>\n",
       "    <tr>\n",
       "      <th>60760</th>\n",
       "      <td>2360-D-2006</td>\n",
       "      <td>TRANSFERENCIA A TITULO GRATUITO DE UN INMUEBLE...</td>\n",
       "      <td>LEGISLACION GENERAL</td>\n",
       "    </tr>\n",
       "    <tr>\n",
       "      <th>60761</th>\n",
       "      <td>2360-D-2006</td>\n",
       "      <td>TRANSFERENCIA A TITULO GRATUITO DE UN INMUEBLE...</td>\n",
       "      <td>EDUCACION</td>\n",
       "    </tr>\n",
       "  </tbody>\n",
       "</table>\n",
       "</div>"
      ],
      "text/plain": [
       "        expediente                                             titulo  \\\n",
       "60757  2377-D-2006  INSTITUCION DE LA \"FIESTA DE LA FAMILIA\", CONO...   \n",
       "60758  2376-D-2006  INSTITUCION DE LA \"FIESTA NACIONAL DE LA CARNE...   \n",
       "60759  2376-D-2006  INSTITUCION DE LA \"FIESTA NACIONAL DE LA CARNE...   \n",
       "60760  2360-D-2006  TRANSFERENCIA A TITULO GRATUITO DE UN INMUEBLE...   \n",
       "60761  2360-D-2006  TRANSFERENCIA A TITULO GRATUITO DE UN INMUEBLE...   \n",
       "\n",
       "           giro_a_comision  \n",
       "60757  LEGISLACION GENERAL  \n",
       "60758            INDUSTRIA  \n",
       "60759  LEGISLACION GENERAL  \n",
       "60760  LEGISLACION GENERAL  \n",
       "60761            EDUCACION  "
      ]
     },
     "execution_count": 467,
     "metadata": {},
     "output_type": "execute_result"
    }
   ],
   "source": [
    "giros_diputados.tail()"
   ]
  },
  {
   "cell_type": "code",
   "execution_count": 449,
   "metadata": {},
   "outputs": [],
   "source": [
    "#giros_diputados.to_csv('proyectos_ley_giros_diputados.csv', index = False)"
   ]
  },
  {
   "cell_type": "markdown",
   "metadata": {},
   "source": [
    "### Armo la base de giros en Senado"
   ]
  },
  {
   "cell_type": "code",
   "execution_count": 437,
   "metadata": {},
   "outputs": [
    {
     "name": "stderr",
     "output_type": "stream",
     "text": [
      "100%|██████████| 2003/2003 [06:46<00:00,  4.93it/s]\n"
     ]
    }
   ],
   "source": [
    "data = []\n",
    "\n",
    "for page in tqdm(proyectos_ley):\n",
    "    soup = BeautifulSoup(page, 'html5lib')\n",
    "    soup_proyectos = soup.find_all('div', class_ = 'detalle-proyecto')\n",
    "    for proyecto in soup_proyectos:\n",
    "        table_body = proyecto.find('table', class_ = 'dp-giros-senado table table-condensed table-striped')\n",
    "        titulo = proyecto.find('div', class_ = 'dp-texto')\n",
    "        metadata = proyecto.find_all('div', class_ = 'dp-metadata')\n",
    "        try:\n",
    "            exp_num = re.search('[0-9]+[-]+[D-S]+[-][0-9]+', str(metadata)).group(0)\n",
    "        except:\n",
    "            pass           \n",
    "        if table_body:\n",
    "            rows = table_body.find_all('tr')\n",
    "            for row in rows:\n",
    "                cols = row.find_all('td')\n",
    "                cols = [ele.text.replace('\\xa0', ' ').strip() for ele in cols]\n",
    "                if cols:\n",
    "                    cols.insert(0, titulo.get_text())\n",
    "                    cols.insert(0, exp_num)\n",
    "                data.append([ele for ele in cols if ele])"
   ]
  },
  {
   "cell_type": "code",
   "execution_count": 438,
   "metadata": {},
   "outputs": [],
   "source": [
    "giros_senado = pd.DataFrame([x for x in data if x])\n",
    "giros_senado.columns = ['expediente', 'titulo', 'giro_a_comision']"
   ]
  },
  {
   "cell_type": "code",
   "execution_count": 465,
   "metadata": {},
   "outputs": [
    {
     "data": {
      "text/html": [
       "<div>\n",
       "<style scoped>\n",
       "    .dataframe tbody tr th:only-of-type {\n",
       "        vertical-align: middle;\n",
       "    }\n",
       "\n",
       "    .dataframe tbody tr th {\n",
       "        vertical-align: top;\n",
       "    }\n",
       "\n",
       "    .dataframe thead th {\n",
       "        text-align: right;\n",
       "    }\n",
       "</style>\n",
       "<table border=\"1\" class=\"dataframe\">\n",
       "  <thead>\n",
       "    <tr style=\"text-align: right;\">\n",
       "      <th></th>\n",
       "      <th>expediente</th>\n",
       "      <th>titulo</th>\n",
       "      <th>giro_a_comision</th>\n",
       "    </tr>\n",
       "  </thead>\n",
       "  <tbody>\n",
       "    <tr>\n",
       "      <th>22888</th>\n",
       "      <td>1453-S-2006</td>\n",
       "      <td>CREACION DEL PROGRAMA DE EDUCACION \"FUNDADORES...</td>\n",
       "      <td>PRESUPUESTO Y HACIENDA</td>\n",
       "    </tr>\n",
       "    <tr>\n",
       "      <th>22889</th>\n",
       "      <td>1452-S-2006</td>\n",
       "      <td>REGIMEN DE MEDIERIA FRUTIHORTICOLA .</td>\n",
       "      <td>LEGISLACION GENERAL</td>\n",
       "    </tr>\n",
       "    <tr>\n",
       "      <th>22890</th>\n",
       "      <td>1452-S-2006</td>\n",
       "      <td>REGIMEN DE MEDIERIA FRUTIHORTICOLA .</td>\n",
       "      <td>AGRICULTURA, GANADERIA Y PESCA</td>\n",
       "    </tr>\n",
       "    <tr>\n",
       "      <th>22891</th>\n",
       "      <td>1451-S-2006</td>\n",
       "      <td>DECLARAR DE INTERES NACIONAL LA FABRICACION DE...</td>\n",
       "      <td>INDUSTRIA Y COMERCIO</td>\n",
       "    </tr>\n",
       "    <tr>\n",
       "      <th>22892</th>\n",
       "      <td>1449-S-2006</td>\n",
       "      <td>MODIFICACION DEL CODIGO PENAL INCLUYENDO A FAM...</td>\n",
       "      <td>JUSTICIA Y ASUNTOS PENALES</td>\n",
       "    </tr>\n",
       "  </tbody>\n",
       "</table>\n",
       "</div>"
      ],
      "text/plain": [
       "        expediente                                             titulo  \\\n",
       "22888  1453-S-2006  CREACION DEL PROGRAMA DE EDUCACION \"FUNDADORES...   \n",
       "22889  1452-S-2006               REGIMEN DE MEDIERIA FRUTIHORTICOLA .   \n",
       "22890  1452-S-2006               REGIMEN DE MEDIERIA FRUTIHORTICOLA .   \n",
       "22891  1451-S-2006  DECLARAR DE INTERES NACIONAL LA FABRICACION DE...   \n",
       "22892  1449-S-2006  MODIFICACION DEL CODIGO PENAL INCLUYENDO A FAM...   \n",
       "\n",
       "                      giro_a_comision  \n",
       "22888          PRESUPUESTO Y HACIENDA  \n",
       "22889             LEGISLACION GENERAL  \n",
       "22890  AGRICULTURA, GANADERIA Y PESCA  \n",
       "22891            INDUSTRIA Y COMERCIO  \n",
       "22892      JUSTICIA Y ASUNTOS PENALES  "
      ]
     },
     "execution_count": 465,
     "metadata": {},
     "output_type": "execute_result"
    }
   ],
   "source": [
    "giros_senado.tail()"
   ]
  },
  {
   "cell_type": "code",
   "execution_count": 448,
   "metadata": {},
   "outputs": [],
   "source": [
    "#giros_senado.to_csv('proyectos_ley_giros_senado.csv', index = False)"
   ]
  },
  {
   "cell_type": "markdown",
   "metadata": {},
   "source": [
    "### Armo la base de firmantes"
   ]
  },
  {
   "cell_type": "code",
   "execution_count": 440,
   "metadata": {},
   "outputs": [
    {
     "name": "stderr",
     "output_type": "stream",
     "text": [
      "100%|██████████| 2003/2003 [06:33<00:00,  5.08it/s]\n"
     ]
    }
   ],
   "source": [
    "data = []\n",
    "\n",
    "for page in tqdm(proyectos_ley):\n",
    "    soup = BeautifulSoup(page, 'html5lib')\n",
    "    soup_proyectos = soup.find_all('div', class_ = 'detalle-proyecto')\n",
    "    for proyecto in soup_proyectos:\n",
    "        table_body = proyecto.find('table', class_ = 'dp-firmantes table table-condensed table-striped')\n",
    "        titulo = proyecto.find('div', class_ = 'dp-texto')\n",
    "        metadata = proyecto.find_all('div', class_ = 'dp-metadata')\n",
    "        try:\n",
    "            exp_num = re.search('[0-9]+[-]+[D-S]+[-][0-9]+', str(metadata)).group(0)\n",
    "        except:\n",
    "            pass           \n",
    "        if table_body:\n",
    "            rows = table_body.find_all('tr')\n",
    "            for row in rows:\n",
    "                cols = row.find_all('td')\n",
    "                cols = [ele.text.replace('\\xa0', ' ').strip() for ele in cols]\n",
    "                if cols:\n",
    "                    cols.insert(0, titulo.get_text())\n",
    "                    cols.insert(0, exp_num)\n",
    "                data.append([ele for ele in cols if ele])"
   ]
  },
  {
   "cell_type": "code",
   "execution_count": 446,
   "metadata": {},
   "outputs": [],
   "source": [
    "firmantes = pd.DataFrame([x for x in data if x])\n",
    "firmantes.columns = ['expediente', 'titulo', 'firmante', 'distrito', 'bloque']"
   ]
  },
  {
   "cell_type": "code",
   "execution_count": 459,
   "metadata": {},
   "outputs": [
    {
     "data": {
      "text/html": [
       "<div>\n",
       "<style scoped>\n",
       "    .dataframe tbody tr th:only-of-type {\n",
       "        vertical-align: middle;\n",
       "    }\n",
       "\n",
       "    .dataframe tbody tr th {\n",
       "        vertical-align: top;\n",
       "    }\n",
       "\n",
       "    .dataframe thead th {\n",
       "        text-align: right;\n",
       "    }\n",
       "</style>\n",
       "<table border=\"1\" class=\"dataframe\">\n",
       "  <thead>\n",
       "    <tr style=\"text-align: right;\">\n",
       "      <th></th>\n",
       "      <th>expediente</th>\n",
       "      <th>titulo</th>\n",
       "      <th>firmante</th>\n",
       "      <th>distrito</th>\n",
       "      <th>bloque</th>\n",
       "    </tr>\n",
       "  </thead>\n",
       "  <tbody>\n",
       "    <tr>\n",
       "      <th>107837</th>\n",
       "      <td>2376-D-2006</td>\n",
       "      <td>INSTITUCION DE LA \"FIESTA NACIONAL DE LA CARNE...</td>\n",
       "      <td>BERRAUTE, ANA</td>\n",
       "      <td>SANTA FE</td>\n",
       "      <td>FRENTE PARA LA VICTORIA - PJ</td>\n",
       "    </tr>\n",
       "    <tr>\n",
       "      <th>107838</th>\n",
       "      <td>2376-D-2006</td>\n",
       "      <td>INSTITUCION DE LA \"FIESTA NACIONAL DE LA CARNE...</td>\n",
       "      <td>NEMIROVSCI, OSVALDO MARIO</td>\n",
       "      <td>RIO NEGRO</td>\n",
       "      <td>FRENTE PARA LA VICTORIA - PJ</td>\n",
       "    </tr>\n",
       "    <tr>\n",
       "      <th>107839</th>\n",
       "      <td>2360-D-2006</td>\n",
       "      <td>TRANSFERENCIA A TITULO GRATUITO DE UN INMUEBLE...</td>\n",
       "      <td>CHIACCHIO, NORA ALICIA</td>\n",
       "      <td>BUENOS AIRES</td>\n",
       "      <td>PERONISTA FEDERAL</td>\n",
       "    </tr>\n",
       "    <tr>\n",
       "      <th>107840</th>\n",
       "      <td>2360-D-2006</td>\n",
       "      <td>TRANSFERENCIA A TITULO GRATUITO DE UN INMUEBLE...</td>\n",
       "      <td>VILLAVERDE, JORGE ANTONIO</td>\n",
       "      <td>BUENOS AIRES</td>\n",
       "      <td>PERONISTA FEDERAL</td>\n",
       "    </tr>\n",
       "    <tr>\n",
       "      <th>107841</th>\n",
       "      <td>2360-D-2006</td>\n",
       "      <td>TRANSFERENCIA A TITULO GRATUITO DE UN INMUEBLE...</td>\n",
       "      <td>NEMIROVSCI, OSVALDO MARIO</td>\n",
       "      <td>RIO NEGRO</td>\n",
       "      <td>FRENTE PARA LA VICTORIA - PJ</td>\n",
       "    </tr>\n",
       "  </tbody>\n",
       "</table>\n",
       "</div>"
      ],
      "text/plain": [
       "         expediente                                             titulo  \\\n",
       "107837  2376-D-2006  INSTITUCION DE LA \"FIESTA NACIONAL DE LA CARNE...   \n",
       "107838  2376-D-2006  INSTITUCION DE LA \"FIESTA NACIONAL DE LA CARNE...   \n",
       "107839  2360-D-2006  TRANSFERENCIA A TITULO GRATUITO DE UN INMUEBLE...   \n",
       "107840  2360-D-2006  TRANSFERENCIA A TITULO GRATUITO DE UN INMUEBLE...   \n",
       "107841  2360-D-2006  TRANSFERENCIA A TITULO GRATUITO DE UN INMUEBLE...   \n",
       "\n",
       "                         firmante      distrito                        bloque  \n",
       "107837              BERRAUTE, ANA      SANTA FE  FRENTE PARA LA VICTORIA - PJ  \n",
       "107838  NEMIROVSCI, OSVALDO MARIO     RIO NEGRO  FRENTE PARA LA VICTORIA - PJ  \n",
       "107839     CHIACCHIO, NORA ALICIA  BUENOS AIRES             PERONISTA FEDERAL  \n",
       "107840  VILLAVERDE, JORGE ANTONIO  BUENOS AIRES             PERONISTA FEDERAL  \n",
       "107841  NEMIROVSCI, OSVALDO MARIO     RIO NEGRO  FRENTE PARA LA VICTORIA - PJ  "
      ]
     },
     "execution_count": 459,
     "metadata": {},
     "output_type": "execute_result"
    }
   ],
   "source": [
    "firmantes.tail()"
   ]
  },
  {
   "cell_type": "code",
   "execution_count": 452,
   "metadata": {},
   "outputs": [],
   "source": [
    "#firmantes.to_csv('proyectos_ley_firmantes.csv', index = False)"
   ]
  },
  {
   "cell_type": "markdown",
   "metadata": {},
   "source": [
    "### Armo la base de trámites"
   ]
  },
  {
   "cell_type": "code",
   "execution_count": 453,
   "metadata": {},
   "outputs": [
    {
     "name": "stderr",
     "output_type": "stream",
     "text": [
      "100%|██████████| 2003/2003 [06:42<00:00,  4.97it/s]\n"
     ]
    }
   ],
   "source": [
    "data = []\n",
    "\n",
    "for page in tqdm(proyectos_ley):\n",
    "    soup = BeautifulSoup(page, 'html5lib')\n",
    "    soup_proyectos = soup.find_all('div', class_ = 'detalle-proyecto')\n",
    "    for proyecto in soup_proyectos:\n",
    "        table_body = proyecto.find('table', class_ = 'dp-tramites table table-condensed table-striped')\n",
    "        titulo = proyecto.find('div', class_ = 'dp-texto')\n",
    "        metadata = proyecto.find_all('div', class_ = 'dp-metadata')\n",
    "        try:\n",
    "            exp_num = re.search('[0-9]+[-]+[D-S]+[-][0-9]+', str(metadata)).group(0)\n",
    "        except:\n",
    "            pass           \n",
    "        if table_body:\n",
    "            rows = table_body.find_all('tr')\n",
    "            for row in rows:\n",
    "                cols = row.find_all('td')\n",
    "                cols = [ele.text.replace('\\xa0', ' ').strip() for ele in cols]\n",
    "                if cols:\n",
    "                    cols.insert(0, titulo.get_text())\n",
    "                    cols.insert(0, exp_num)\n",
    "                data.append([ele for ele in cols if ele])"
   ]
  },
  {
   "cell_type": "code",
   "execution_count": 454,
   "metadata": {},
   "outputs": [],
   "source": [
    "tramites = pd.DataFrame([x for x in data if x])\n",
    "tramites.columns = ['expediente', 'titulo', 'camara', 'movimiento', 'fecha', 'resultado']"
   ]
  },
  {
   "cell_type": "code",
   "execution_count": 457,
   "metadata": {},
   "outputs": [
    {
     "data": {
      "text/html": [
       "<div>\n",
       "<style scoped>\n",
       "    .dataframe tbody tr th:only-of-type {\n",
       "        vertical-align: middle;\n",
       "    }\n",
       "\n",
       "    .dataframe tbody tr th {\n",
       "        vertical-align: top;\n",
       "    }\n",
       "\n",
       "    .dataframe thead th {\n",
       "        text-align: right;\n",
       "    }\n",
       "</style>\n",
       "<table border=\"1\" class=\"dataframe\">\n",
       "  <thead>\n",
       "    <tr style=\"text-align: right;\">\n",
       "      <th></th>\n",
       "      <th>expediente</th>\n",
       "      <th>titulo</th>\n",
       "      <th>camara</th>\n",
       "      <th>movimiento</th>\n",
       "      <th>fecha</th>\n",
       "      <th>resultado</th>\n",
       "    </tr>\n",
       "  </thead>\n",
       "  <tbody>\n",
       "    <tr>\n",
       "      <th>27825</th>\n",
       "      <td>2381-D-2006</td>\n",
       "      <td>AGENCIAS DE VIAJES DE TURISMO, LEY 25599: MODI...</td>\n",
       "      <td>Diputados</td>\n",
       "      <td>SOLICITUD DE SER COFIRMANTES DE LOS DIPUTADOS ...</td>\n",
       "      <td>None</td>\n",
       "      <td>None</td>\n",
       "    </tr>\n",
       "    <tr>\n",
       "      <th>27826</th>\n",
       "      <td>2381-D-2006</td>\n",
       "      <td>AGENCIAS DE VIAJES DE TURISMO, LEY 25599: MODI...</td>\n",
       "      <td>Diputados</td>\n",
       "      <td>MOCION SOBRE TABLAS (AFIRMATIVA) CONJUNTAMENTE...</td>\n",
       "      <td>05/07/2006</td>\n",
       "      <td>None</td>\n",
       "    </tr>\n",
       "    <tr>\n",
       "      <th>27827</th>\n",
       "      <td>2381-D-2006</td>\n",
       "      <td>AGENCIAS DE VIAJES DE TURISMO, LEY 25599: MODI...</td>\n",
       "      <td>Diputados</td>\n",
       "      <td>CONSIDERACION Y APROBACION EN GENERAL (VOTACIO...</td>\n",
       "      <td>05/07/2006</td>\n",
       "      <td>None</td>\n",
       "    </tr>\n",
       "    <tr>\n",
       "      <th>27828</th>\n",
       "      <td>2381-D-2006</td>\n",
       "      <td>AGENCIAS DE VIAJES DE TURISMO, LEY 25599: MODI...</td>\n",
       "      <td>Diputados</td>\n",
       "      <td>CONSIDERACION Y APROBACION CON MODIFICACIONES ...</td>\n",
       "      <td>05/07/2006</td>\n",
       "      <td>MEDIA SANCION</td>\n",
       "    </tr>\n",
       "    <tr>\n",
       "      <th>27829</th>\n",
       "      <td>2381-D-2006</td>\n",
       "      <td>AGENCIAS DE VIAJES DE TURISMO, LEY 25599: MODI...</td>\n",
       "      <td>Senado</td>\n",
       "      <td>PASA A SENADO -  CONJUNTAMENTE PARA LOS EXPEDI...</td>\n",
       "      <td>None</td>\n",
       "      <td>None</td>\n",
       "    </tr>\n",
       "  </tbody>\n",
       "</table>\n",
       "</div>"
      ],
      "text/plain": [
       "        expediente                                             titulo  \\\n",
       "27825  2381-D-2006  AGENCIAS DE VIAJES DE TURISMO, LEY 25599: MODI...   \n",
       "27826  2381-D-2006  AGENCIAS DE VIAJES DE TURISMO, LEY 25599: MODI...   \n",
       "27827  2381-D-2006  AGENCIAS DE VIAJES DE TURISMO, LEY 25599: MODI...   \n",
       "27828  2381-D-2006  AGENCIAS DE VIAJES DE TURISMO, LEY 25599: MODI...   \n",
       "27829  2381-D-2006  AGENCIAS DE VIAJES DE TURISMO, LEY 25599: MODI...   \n",
       "\n",
       "          camara                                         movimiento  \\\n",
       "27825  Diputados  SOLICITUD DE SER COFIRMANTES DE LOS DIPUTADOS ...   \n",
       "27826  Diputados  MOCION SOBRE TABLAS (AFIRMATIVA) CONJUNTAMENTE...   \n",
       "27827  Diputados  CONSIDERACION Y APROBACION EN GENERAL (VOTACIO...   \n",
       "27828  Diputados  CONSIDERACION Y APROBACION CON MODIFICACIONES ...   \n",
       "27829     Senado  PASA A SENADO -  CONJUNTAMENTE PARA LOS EXPEDI...   \n",
       "\n",
       "            fecha      resultado  \n",
       "27825        None           None  \n",
       "27826  05/07/2006           None  \n",
       "27827  05/07/2006           None  \n",
       "27828  05/07/2006  MEDIA SANCION  \n",
       "27829        None           None  "
      ]
     },
     "execution_count": 457,
     "metadata": {},
     "output_type": "execute_result"
    }
   ],
   "source": [
    "tramites.tail()"
   ]
  },
  {
   "cell_type": "code",
   "execution_count": 456,
   "metadata": {},
   "outputs": [],
   "source": [
    "#tramites.to_csv('proyectos_ley_tramites.csv', index = False)"
   ]
  }
 ],
 "metadata": {
  "kernelspec": {
   "display_name": "Python 3",
   "language": "python",
   "name": "python3"
  },
  "language_info": {
   "codemirror_mode": {
    "name": "ipython",
    "version": 3
   },
   "file_extension": ".py",
   "mimetype": "text/x-python",
   "name": "python",
   "nbconvert_exporter": "python",
   "pygments_lexer": "ipython3",
   "version": "3.6.4"
  }
 },
 "nbformat": 4,
 "nbformat_minor": 2
}
